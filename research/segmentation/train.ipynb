{
 "cells": [
  {
   "cell_type": "markdown",
   "metadata": {
    "collapsed": false,
    "jupyter": {
     "outputs_hidden": false
    },
    "pycharm": {
     "name": "#%% md\n"
    }
   },
   "source": [
    "# Training UNet for drop segmentation"
   ]
  },
  {
   "cell_type": "code",
   "execution_count": 78,
   "metadata": {},
   "outputs": [],
   "source": [
    "import torch\n",
    "from checkpoints import *\n",
    "from measures import *"
   ]
  },
  {
   "cell_type": "code",
   "execution_count": 79,
   "metadata": {
    "collapsed": false,
    "jupyter": {
     "outputs_hidden": false
    },
    "pycharm": {
     "name": "#%%\n"
    }
   },
   "outputs": [
    {
     "name": "stdout",
     "output_type": "stream",
     "text": [
      "Training using cuda\n"
     ]
    }
   ],
   "source": [
    "config = {\n",
    "    \"lr\": 0.001,\n",
    "    \"batch_size\": 16,\n",
    "    \"epochs\": 15,\n",
    "    \"threshold\": 0.3,\n",
    "    \"init_from_checkpoint\": False,\n",
    "    \"input_mode\": \"RGBS\",\n",
    "    \"image_dir\": '../../data/derain/ALIGNED_PAIRS/CG_DROPLETS',\n",
    "    \"mask_dir\": '../../data/derain/ALIGNED_PAIRS/CG_MASKS',\n",
    "    \"device\": \"cuda\" if torch.cuda.is_available() else \"cpu\",\n",
    "    \"checkpoint_dir\": \"cg_checkpoints\",\n",
    "    \"checkpoint\": \"UNetRGBDBCEt13v13e27.pt\", # if None loads last saved checkpoint\n",
    "    \"print_model\": False,\n",
    "    \"binarization\": True,\n",
    "    \"seed\": 3407 # if None uses random seed\n",
    "}\n",
    "config[\"channels\"] = len(config[\"input_mode\"])\n",
    "print(f\"Training using {config['device']}\")"
   ]
  },
  {
   "cell_type": "code",
   "execution_count": 80,
   "metadata": {},
   "outputs": [],
   "source": [
    "# Set seed\n",
    "if config[\"seed\"] is not None:\n",
    "    torch.manual_seed(config[\"seed\"])  "
   ]
  },
  {
   "cell_type": "code",
   "execution_count": 81,
   "metadata": {
    "collapsed": false,
    "jupyter": {
     "outputs_hidden": false
    },
    "pycharm": {
     "name": "#%%\n"
    }
   },
   "outputs": [
    {
     "name": "stdout",
     "output_type": "stream",
     "text": [
      "Loaded 4812 images\n",
      "\n",
      "Train: 4331 images, 271 batches\n",
      "Val: 481 images, 31 batches\n"
     ]
    }
   ],
   "source": [
    "# Load train and val datasets and prepare loaders\n",
    "\n",
    "from torch.utils.data import DataLoader\n",
    "import importlib\n",
    "import dataset\n",
    "importlib.reload(dataset)\n",
    "from dataset import WaterDropDataset\n",
    "dataset = WaterDropDataset(\n",
    "    mode=config[\"input_mode\"],\n",
    "    image_dir=config[\"image_dir\"],\n",
    "    mask_dir=config[\"mask_dir\"],\n",
    "    binarization = config[\"binarization\"],\n",
    "    threshold=config[\"threshold\"],\n",
    "    crop_shape=(256, 256)\n",
    ")\n",
    "\n",
    "assert dataset, \"Dataset is empty!\"\n",
    "\n",
    "train_dataset, val_dataset = dataset.random_split(0.1)\n",
    "train_loader = DataLoader(\n",
    "    train_dataset,\n",
    "    batch_size=config[\"batch_size\"],\n",
    "    shuffle=True\n",
    ")\n",
    "val_loader = DataLoader(\n",
    "    val_dataset,\n",
    "    batch_size=config[\"batch_size\"],\n",
    "    shuffle=True\n",
    ")\n",
    "\n",
    "print (f'Loaded {len(dataset)} images\\n')\n",
    "print (f'Train: {len(train_dataset)} images, {len(train_loader)} batches')\n",
    "print (f'Val: {len(val_dataset)} images, {len(val_loader)} batches')"
   ]
  },
  {
   "cell_type": "code",
   "execution_count": 82,
   "metadata": {
    "collapsed": false,
    "jupyter": {
     "outputs_hidden": false
    },
    "pycharm": {
     "name": "#%%\n"
    }
   },
   "outputs": [
    {
     "name": "stdout",
     "output_type": "stream",
     "text": [
      "Randomly initiated parameters\n"
     ]
    }
   ],
   "source": [
    "# Load model, loss function and optimizer\n",
    "from torch import nn\n",
    "from unet import UNet, RUNet\n",
    "from unet import init_weights\n",
    "from pathlib import Path\n",
    "from torch.optim import lr_scheduler\n",
    "\n",
    "model = UNet(config[\"channels\"]).to(config['device'])\n",
    "optimizer = torch.optim.Adam(params=model.parameters(), lr=config[\"lr\"])\n",
    "\n",
    "# Load or fill weights\n",
    "# And set the start_epoch of model\n",
    "if config[\"init_from_checkpoint\"]:\n",
    "    # Load checkpoint\n",
    "    if config[\"checkpoint\"] is None:\n",
    "        path = last_checkpoint(config[\"checkpoint_dir\"])\n",
    "    else:\n",
    "        path = Path(config[\"checkpoint_dir\"], config[\"checkpoint\"])     \n",
    "    checkpoint = torch.load(path)\n",
    "    \n",
    "    # Load model & optim from checkpoint\n",
    "    model.load_state_dict(checkpoint[\"model_state_dict\"])\n",
    "    optimizer.load_state_dict(checkpoint[\"optimizer_state_dict\"])\n",
    "    print(f\"Loaded parameters from '{path}'\")\n",
    "    print_checkpoint(checkpoint)\n",
    "    start_epoch = checkpoint[\"epochs\"]\n",
    "else:\n",
    "    init_weights(model, torch.nn.init.normal_, mean=0., std=1)\n",
    "    print(\"Randomly initiated parameters\")\n",
    "    start_epoch = 0\n",
    "\n",
    "scheduler = lr_scheduler.StepLR(\n",
    "    optimizer, \n",
    "    step_size=3,\n",
    "    gamma=0.8\n",
    ")\n",
    "\n",
    "loss_fn = torch.nn.BCEWithLogitsLoss()\n",
    "scaler = torch.cuda.amp.GradScaler()\n",
    "\n",
    "layers = model.train()\n",
    "if config[\"print_model\"]:\n",
    "    print(layers)"
   ]
  },
  {
   "cell_type": "code",
   "execution_count": 83,
   "metadata": {},
   "outputs": [],
   "source": [
    "def validate(model, loss_fn):\n",
    "    import math\n",
    "    model.eval()\n",
    "\n",
    "    losses = []\n",
    "    accuracies = []\n",
    "    precisions = []\n",
    "    recalls = []\n",
    "    ious = []\n",
    "    with torch.no_grad():\n",
    "        for x, y in val_loader:\n",
    "            x = x.to(config['device'])\n",
    "            y = y.to(config['device'])\n",
    "\n",
    "            pred = model(x)\n",
    "            loss = loss_fn(pred, y)\n",
    "            \n",
    "            \n",
    "            if not math.isnan(loss.item()):\n",
    "                losses.append(loss.item())\n",
    "            else:\n",
    "                print(\"Nan on validation\")\n",
    "            \n",
    "            pred = torch.sigmoid(model(x))\n",
    "            pred = pred.cpu().detach().numpy()\n",
    "            y = y.cpu().detach().numpy()\n",
    "\n",
    "            if config[\"binarization\"]:\n",
    "                pred = (pred >= config[\"threshold\"])\n",
    "            \n",
    "            accuracies.append(accuracy(y, pred))\n",
    "            ious.append(IoU(y, pred))\n",
    "            precisions.append(precision(y, pred))\n",
    "            recalls.append(recall(y, pred))\n",
    "    model.train()         \n",
    "    mean = lambda l: sum(l) / len(l) if len(l) > 0 else -1\n",
    "    return mean(losses), mean(ious), mean(accuracies), mean(precisions), mean(recalls)"
   ]
  },
  {
   "cell_type": "code",
   "execution_count": 84,
   "metadata": {},
   "outputs": [],
   "source": [
    "def ch_score(checkpoint):\n",
    "    return checkpoint[\"iou\"]"
   ]
  },
  {
   "cell_type": "code",
   "execution_count": 85,
   "metadata": {},
   "outputs": [],
   "source": [
    "best_checkpoint = {\n",
    "    \"name\": \"nullcheck\",\n",
    "    \"epochs\": 0,\n",
    "    \"model_state_dict\": [],\n",
    "    \"optimizer_state_dict\": [],\n",
    "    \"train_loss\": 1e100,\n",
    "    \"val_loss\": 1e100,\n",
    "    \"iou\": 0,\n",
    "    \"accuracy\": 0,\n",
    "    \"precision\": 0,\n",
    "    \"recall\": 0\n",
    "}"
   ]
  },
  {
   "cell_type": "code",
   "execution_count": 86,
   "metadata": {
    "collapsed": false,
    "jupyter": {
     "outputs_hidden": false
    },
    "pycharm": {
     "name": "#%%\n"
    }
   },
   "outputs": [],
   "source": [
    "from tqdm.notebook import tqdm\n",
    "from sys import stdout\n",
    "import math\n",
    "def train(save_checkpoints=True, lr=None):\n",
    "    # If lr=None, learning rate is used from optimizer\n",
    "    if lr is not None:\n",
    "        optimizer.param_groups[0][\"lr\"] = lr\n",
    "    global best_checkpoint\n",
    "    \n",
    "    for epoch in range(config['epochs']):\n",
    "        epoch += start_epoch\n",
    "        print(\"Epoch\", epoch, \"| lr\", optimizer.state_dict()[\"param_groups\"][0][\"lr\"])\n",
    "        \n",
    "        loader = tqdm(train_loader)\n",
    "        losses = []\n",
    "\n",
    "        # Training this epoch\n",
    "        for image, gt in loader:\n",
    "            image = image.to(config['device'])\n",
    "            gt = gt.float().to(config['device'])\n",
    "            with torch.cuda.amp.autocast():\n",
    "                pred = model(image)\n",
    "                if math.isnan(torch.max(pred)):\n",
    "                    print(f\"NaN pred occured\")\n",
    "                loss = loss_fn(pred, gt)\n",
    "            optimizer.zero_grad()\n",
    "            scaler.scale(loss).backward()\n",
    "            scaler.step(optimizer)\n",
    "            scaler.update()\n",
    "        \n",
    "            train_loss = loss.item()\n",
    "            if math.isnan(train_loss):\n",
    "                print(f\"NaN loss occured\")\n",
    "                return\n",
    "            \n",
    "            losses.append(train_loss)\n",
    "            loader.set_postfix(loss=train_loss)\n",
    "            \n",
    "        optimizer.step()\n",
    "        scheduler.step()\n",
    "\n",
    "\n",
    "        # Compute metrics\n",
    "        train_loss = sum(losses) / len(losses)\n",
    "        checkpoint = get_checkpoint( \n",
    "                model,\n",
    "                config[\"input_mode\"],\n",
    "                optimizer,\n",
    "                loss_fn,\n",
    "                epoch,\n",
    "                train_loss,\n",
    "                *validate(model, loss_fn)\n",
    "            )\n",
    "        print_checkpoint(checkpoint)\n",
    "        \n",
    "        if save_checkpoints:\n",
    "            save_checkpoint(\n",
    "                checkpoint,\n",
    "                config[\"checkpoint_dir\"],\n",
    "                checkpoint[\"name\"]\n",
    "            )\n",
    "        # Find best checkpoint\n",
    "        elif ch_score(best_checkpoint) < ch_score(checkpoint):\n",
    "            best_checkpoint = checkpoint"
   ]
  },
  {
   "cell_type": "code",
   "execution_count": null,
   "metadata": {
    "scrolled": true
   },
   "outputs": [
    {
     "name": "stdout",
     "output_type": "stream",
     "text": [
      "Epoch 0 | lr 0.001\n"
     ]
    },
    {
     "data": {
      "application/vnd.jupyter.widget-view+json": {
       "model_id": "edd3c2dd3dd545d6b0a0e2205ac6dd71",
       "version_major": 2,
       "version_minor": 0
      },
      "text/plain": [
       "  0%|          | 0/271 [00:00<?, ?it/s]"
      ]
     },
     "metadata": {},
     "output_type": "display_data"
    },
    {
     "name": "stdout",
     "output_type": "stream",
     "text": [
      "Train BCE loss: 0.6305551334280809\n",
      "Valid BCE loss: 0.39716551380772747\n",
      "IoU:       0.6454509644799175 \n",
      "\n",
      "Accuracy:  0.7782666913924678\n",
      "Precision: 0.9034691934864367\n",
      "Recall:    0.6980718657268803 \n",
      "\n",
      "Epoch 1 | lr 0.001\n"
     ]
    },
    {
     "data": {
      "application/vnd.jupyter.widget-view+json": {
       "model_id": "2e70e86a3f63436aa84c94167aa5c06b",
       "version_major": 2,
       "version_minor": 0
      },
      "text/plain": [
       "  0%|          | 0/271 [00:00<?, ?it/s]"
      ]
     },
     "metadata": {},
     "output_type": "display_data"
    }
   ],
   "source": [
    "train(save_checkpoints=False)\n",
    "start_epoch = start_epoch + config[\"epochs\"]"
   ]
  },
  {
   "cell_type": "code",
   "execution_count": null,
   "metadata": {},
   "outputs": [],
   "source": [
    "print_checkpoint(best_checkpoint)"
   ]
  },
  {
   "cell_type": "code",
   "execution_count": null,
   "metadata": {},
   "outputs": [],
   "source": [
    "save_checkpoint(\n",
    "                best_checkpoint,\n",
    "                config[\"checkpoint_dir\"],\n",
    "                best_checkpoint[\"name\"]\n",
    "            )"
   ]
  },
  {
   "cell_type": "code",
   "execution_count": null,
   "metadata": {},
   "outputs": [],
   "source": [
    "config[\"epochs\"] = 10\n",
    "train(save_checkpoints=False)\n",
    "start_epoch = start_epoch + config[\"epochs\"]"
   ]
  },
  {
   "cell_type": "code",
   "execution_count": null,
   "metadata": {},
   "outputs": [],
   "source": [
    "save_checkpoint(\n",
    "                best_checkpoint,\n",
    "                config[\"checkpoint_dir\"],\n",
    "                best_checkpoint[\"name\"]\n",
    "            )"
   ]
  },
  {
   "cell_type": "code",
   "execution_count": null,
   "metadata": {},
   "outputs": [],
   "source": [
    "model.load_state_dict(best_checkpoint[\"model_state_dict\"])\n",
    "#config[\"epochs\"] = 10\n",
    "train(save_checkpoints=False)\n",
    "start_epoch = start_epoch + config[\"epochs\"]"
   ]
  },
  {
   "cell_type": "code",
   "execution_count": null,
   "metadata": {},
   "outputs": [],
   "source": [
    "save_checkpoint(\n",
    "                best_checkpoint,\n",
    "                config[\"checkpoint_dir\"],\n",
    "                best_checkpoint[\"name\"]\n",
    "            )"
   ]
  },
  {
   "cell_type": "code",
   "execution_count": null,
   "metadata": {},
   "outputs": [],
   "source": [
    "model.load_state_dict(best_checkpoint[\"model_state_dict\"])\n",
    "config[\"epochs\"] = 10\n",
    "train(save_checkpoints=False)\n",
    "start_epoch = start_epoch + config[\"epochs\"]"
   ]
  },
  {
   "cell_type": "code",
   "execution_count": null,
   "metadata": {},
   "outputs": [],
   "source": [
    "print_checkpoint(best_checkpoint)"
   ]
  },
  {
   "cell_type": "code",
   "execution_count": null,
   "metadata": {},
   "outputs": [],
   "source": [
    "model.load_state_dict(best_checkpoint[\"model_state_dict\"])"
   ]
  },
  {
   "cell_type": "code",
   "execution_count": null,
   "metadata": {},
   "outputs": [],
   "source": [
    "model.load_state_dict(best_checkpoint[\"model_state_dict\"])\n",
    "start_epoch = best_checkpoint[\"epochs\"]\n",
    "config[\"epochs\"] = 10\n",
    "train(save_checkpoints=False)\n",
    "start_epoch = start_epoch + config[\"epochs\"]"
   ]
  },
  {
   "cell_type": "code",
   "execution_count": null,
   "metadata": {},
   "outputs": [],
   "source": [
    "save_checkpoint(\n",
    "                best_checkpoint,\n",
    "                config[\"checkpoint_dir\"],\n",
    "                best_checkpoint[\"name\"]\n",
    "            )"
   ]
  },
  {
   "cell_type": "markdown",
   "metadata": {
    "collapsed": false,
    "jupyter": {
     "outputs_hidden": false
    },
    "pycharm": {
     "name": "#%% md\n"
    }
   },
   "source": [
    "# Estimation"
   ]
  },
  {
   "cell_type": "code",
   "execution_count": 22,
   "metadata": {
    "collapsed": false,
    "jupyter": {
     "outputs_hidden": false
    },
    "pycharm": {
     "name": "#%%\n"
    }
   },
   "outputs": [],
   "source": [
    "def predict(model, x, y, binary_map=True, binary_threshold=0.4):\n",
    "    image_np = x.detach().numpy()[0]\n",
    "    gt_np = y.detach().numpy()[0][0]\n",
    "\n",
    "    model.eval()\n",
    "    with torch.no_grad():\n",
    "        x = x.to(config['device'])\n",
    "        y = y.to(config['device'])\n",
    "\n",
    "        pred = torch.sigmoid(model(x))\n",
    "    model.train()\n",
    "    pred_np  = pred.cpu().detach().numpy()[0][0]\n",
    "    if binary_map:\n",
    "        pred_np = pred_np >= binary_threshold\n",
    "    return image_np, gt_np, pred_np"
   ]
  },
  {
   "cell_type": "code",
   "execution_count": 23,
   "metadata": {},
   "outputs": [],
   "source": [
    "def show_channels(x):\n",
    "    x = x.detach().numpy()\n",
    "    \n",
    "    from matplotlib import pyplot as plt\n",
    "    from PIL import Image\n",
    "    import numpy as np\n",
    "\n",
    "    fig, axs = plt.subplots(1, config[\"channels\"])\n",
    "    for ax, c in zip(axs, x):\n",
    "        ax.imshow(c, cmap='gray')\n",
    "    plt.show()"
   ]
  },
  {
   "cell_type": "code",
   "execution_count": 24,
   "metadata": {
    "collapsed": false,
    "jupyter": {
     "outputs_hidden": false
    },
    "pycharm": {
     "name": "#%%\n"
    }
   },
   "outputs": [],
   "source": [
    "def plot_prediction(x, y, binary_map=True, binary_threshold=0.42):\n",
    "    x = torch.stack([x])\n",
    "    y = torch.stack([y])\n",
    "    x, y, pred = predict(model, x, y, binary_map, binary_threshold)\n",
    "    print(\"IoU:      \", iou([y], [pred]))\n",
    "    print(\"Accuracy: \", accuracy([y], [pred]))\n",
    "    print(\"Precision:\", precision([y], [pred]))\n",
    "    print(\"Recall:   \", recall([y], [pred]))\n",
    "    \n",
    "    from matplotlib import pyplot as plt\n",
    "    from PIL import Image\n",
    "    import numpy as np\n",
    "    \n",
    "    fig, axs = plt.subplots(1, 3, figsize=(17, 10))\n",
    "    img = np.transpose(x[:3], (1, 2, 0))\n",
    "    axs[0].imshow(img, cmap='gray')\n",
    "    axs[1].imshow(y, cmap='gray')\n",
    "    axs[2].imshow(pred, cmap='gray')"
   ]
  },
  {
   "cell_type": "code",
   "execution_count": 25,
   "metadata": {},
   "outputs": [
    {
     "name": "stdout",
     "output_type": "stream",
     "text": [
      "Index: 13\n"
     ]
    },
    {
     "data": {
      "image/png": "[encoded data removed]",
      "text/plain": [
       "<Figure size 640x480 with 4 Axes>"
      ]
     },
     "metadata": {},
     "output_type": "display_data"
    },
    {
     "ename": "NameError",
     "evalue": "name 'iou' is not defined",
     "output_type": "error",
     "traceback": [
      "\u001b[0;31m---------------------------------------------------------------------------\u001b[0m",
      "\u001b[0;31mNameError\u001b[0m                                 Traceback (most recent call last)",
      "Cell \u001b[0;32mIn[25], line 7\u001b[0m\n\u001b[1;32m      5\u001b[0m x, y \u001b[38;5;241m=\u001b[39m val_dataset[idx]\n\u001b[1;32m      6\u001b[0m show_channels(x)\n\u001b[0;32m----> 7\u001b[0m \u001b[43mplot_prediction\u001b[49m\u001b[43m(\u001b[49m\u001b[43mx\u001b[49m\u001b[43m,\u001b[49m\u001b[43m \u001b[49m\u001b[43my\u001b[49m\u001b[43m,\u001b[49m\u001b[43m \u001b[49m\u001b[43mbinary_map\u001b[49m\u001b[38;5;241;43m=\u001b[39;49m\u001b[38;5;28;43;01mTrue\u001b[39;49;00m\u001b[43m,\u001b[49m\u001b[43m \u001b[49m\u001b[43mbinary_threshold\u001b[49m\u001b[38;5;241;43m=\u001b[39;49m\u001b[43mconfig\u001b[49m\u001b[43m[\u001b[49m\u001b[38;5;124;43m\"\u001b[39;49m\u001b[38;5;124;43mthreshold\u001b[39;49m\u001b[38;5;124;43m\"\u001b[39;49m\u001b[43m]\u001b[49m\u001b[43m)\u001b[49m\n",
      "Cell \u001b[0;32mIn[24], line 5\u001b[0m, in \u001b[0;36mplot_prediction\u001b[0;34m(x, y, binary_map, binary_threshold)\u001b[0m\n\u001b[1;32m      3\u001b[0m y \u001b[38;5;241m=\u001b[39m torch\u001b[38;5;241m.\u001b[39mstack([y])\n\u001b[1;32m      4\u001b[0m x, y, pred \u001b[38;5;241m=\u001b[39m predict(model, x, y, binary_map, binary_threshold)\n\u001b[0;32m----> 5\u001b[0m \u001b[38;5;28mprint\u001b[39m(\u001b[38;5;124m\"\u001b[39m\u001b[38;5;124mIoU:      \u001b[39m\u001b[38;5;124m\"\u001b[39m, \u001b[43miou\u001b[49m([y], [pred]))\n\u001b[1;32m      6\u001b[0m \u001b[38;5;28mprint\u001b[39m(\u001b[38;5;124m\"\u001b[39m\u001b[38;5;124mAccuracy: \u001b[39m\u001b[38;5;124m\"\u001b[39m, accuracy([y], [pred]))\n\u001b[1;32m      7\u001b[0m \u001b[38;5;28mprint\u001b[39m(\u001b[38;5;124m\"\u001b[39m\u001b[38;5;124mPrecision:\u001b[39m\u001b[38;5;124m\"\u001b[39m, precision([y], [pred]))\n",
      "\u001b[0;31mNameError\u001b[0m: name 'iou' is not defined"
     ]
    }
   ],
   "source": [
    "# Get prediction for random image and crop\n",
    "from random import randint\n",
    "idx = randint(0, len(val_dataset)-1)\n",
    "print(\"Index:\", idx)\n",
    "x, y = val_dataset[idx]\n",
    "show_channels(x)\n",
    "plot_prediction(x, y, binary_map=True, binary_threshold=config[\"threshold\"])"
   ]
  },
  {
   "cell_type": "code",
   "execution_count": null,
   "metadata": {},
   "outputs": [],
   "source": [
    "# Get prediction from opened image\n",
    "image_path = \"../../data/derain/ALIGNED_PAIRS/CG_DROPLETS/left_1535201264389466.png\"\n",
    "mask_path = \"../../data/derain/ALIGNED_PAIRS/CG_MASKS/left_1535201264389466.png\"\n",
    "from PIL import Image, ImageFilter\n",
    "image = Image.open(image_path)\n",
    "mask  = Image.open(mask_path)\n",
    "x, y = dataset.transform(image, mask)\n",
    "plot_prediction(x, y, binary_map=False)"
   ]
  },
  {
   "cell_type": "code",
   "execution_count": null,
   "metadata": {},
   "outputs": [],
   "source": [
    "# Clear checkpoints by condition\n",
    "#clear_checkpoints(config[\"checkpoint_dir\"], condition=lambda ch: ch[\"train_loss\"] >= 0.37, save_last=1)"
   ]
  },
  {
   "cell_type": "code",
   "execution_count": 27,
   "metadata": {},
   "outputs": [
    {
     "name": "stdout",
     "output_type": "stream",
     "text": [
      "total 9096928\n",
      "drwxrwsr-x 2 kondrashov students      4096 Aug 16 15:18 .\n",
      "drwxrwsr-x 8 kondrashov students      4096 Aug 16 15:26 ..\n",
      "-rw-rw-r-- 1 kondrashov students       627 Aug 15 13:33 nullcheck\n",
      "-rw-rw-r-- 1 kondrashov students 372617517 Aug  9 16:50 UNetAdamBCEt113v71e0.pt\n",
      "-rw-rw-r-- 1 kondrashov students 372610293 Aug  9 14:51 UNetAdamBCEt55v57e0.pt\n",
      "-rw-rw-r-- 1 kondrashov students 372617205 Aug  9 16:52 UNetAdamBCEt57v55e2.pt\n",
      "-rw-rw-r-- 1 kondrashov students 372617205 Aug  9 16:51 UNetAdamBCEt60v56e1.pt\n",
      "-rw-rw-r-- 1 kondrashov students 372610293 Aug  9 14:51 UNetAdamBCEt68v67e2.pt\n",
      "-rw-rw-r-- 1 kondrashov students 372610293 Aug  9 14:51 UNetAdamBCEt68v68e1.pt\n",
      "-rw-rw-r-- 1 kondrashov students 372610293 Aug  9 14:51 UNetAdamBCEt77v60e0.pt\n",
      "-rw-rw-r-- 1 kondrashov students 372610293 Aug  9 14:51 UNetAdamBCEt82v68e0.pt\n",
      "-rw-rw-r-- 1 kondrashov students 372610293 Aug  9 14:51 UNetAdamBCEt94v68e0.pt\n",
      "-rw-rw-r-- 1 kondrashov students 372597045 Aug 15 18:05 UNetHSVBCEt14v14e33.pt\n",
      "-rw-rw-r-- 1 kondrashov students 372597045 Aug 15 16:48 UNetHSVBCEt16v15e14.pt\n",
      "-rw-rw-r-- 1 kondrashov students 372597045 Aug 15 17:12 UNetHSVBCEt16v15e15.pt\n",
      "-rw-rw-r-- 1 kondrashov students 372597045 Aug 15 16:05 UNetRGBBCEt12v12e38.pt\n",
      "-rw-rw-r-- 1 kondrashov students 372597045 Aug 15 15:26 UNetRGBBCEt13v12e23.pt\n",
      "-rw-rw-r-- 1 kondrashov students 372597045 Aug 15 15:48 UNetRGBBCEt13v12e29.pt\n",
      "-rw-rw-r-- 1 kondrashov students 372597045 Aug 15 12:22 UNetRGBBCEt13v14e14.pt\n",
      "-rw-rw-r-- 1 kondrashov students 372596733 Aug 15 14:59 UNetRGBBCEt16v16e9.pt\n",
      "-rw-rw-r-- 1 kondrashov students 372604269 Aug 16 14:37 UNetRGBDBCEt13v13e27.pt\n",
      "-rw-rw-r-- 1 kondrashov students 372604269 Aug 15 19:43 UNetRGBDBCEt13v13e34.pt\n",
      "-rw-rw-r-- 1 kondrashov students 372604269 Aug 16 15:18 UNetRGBDBCEt13v13e38.pt\n",
      "-rw-rw-r-- 1 kondrashov students 372604269 Aug 15 20:31 UNetRGBDBCEt13v13e41.pt\n",
      "-rw-rw-r-- 1 kondrashov students 372604269 Aug 16 14:17 UNetRGBDBCEt14v13e22.pt\n",
      "-rw-rw-r-- 1 kondrashov students 372604269 Aug 15 19:19 UNetRGBDBCEt14v14e22.pt\n",
      "-rw-rw-r-- 1 kondrashov students 372604269 Aug 16 13:56 UNetRGBDBCEt15v14e14.pt\n",
      "-rw-rw-r-- 1 kondrashov students 372604269 Aug 15 18:55 UNetRGBDBCEt16v15e12.pt\n"
     ]
    }
   ],
   "source": [
    "!ls -la cg_checkpoints"
   ]
  },
  {
   "cell_type": "code",
   "execution_count": null,
   "metadata": {},
   "outputs": [],
   "source": [
    "!ls final_models"
   ]
  },
  {
   "cell_type": "code",
   "execution_count": null,
   "metadata": {},
   "outputs": [],
   "source": [
    "!cp checkpoints/UNetRGBSBCEt31v31e56.pt final_models"
   ]
  },
  {
   "cell_type": "code",
   "execution_count": null,
   "metadata": {},
   "outputs": [],
   "source": [
    "def modify_dataset():\n",
    "    # Modify images to make them smoother\n",
    "    save_dir = '../../data/derain/ALIGNED_PAIRS/CG_DROPLETS_M7'\n",
    "    Path(save_dir).mkdir(parents=True, exist_ok=True)\n",
    "    step = 1\n",
    "    for path in Path(config[\"image_dir\"]).glob('*.png'):\n",
    "        image = Image.open(path)\n",
    "        image = image.filter(ImageFilter.MedianFilter(size = 5))\n",
    "        new_path = Path(save_dir, path.name)\n",
    "        image.save(new_path)\n",
    "        print(\"Saved\", new_path, step)\n",
    "        step = step + 1"
   ]
  }
 ],
 "metadata": {
  "kernelspec": {
   "display_name": "Python 3 (ipykernel)",
   "language": "python",
   "name": "python3"
  },
  "language_info": {
   "codemirror_mode": {
    "name": "ipython",
    "version": 3
   },
   "file_extension": ".py",
   "mimetype": "text/x-python",
   "name": "python",
   "nbconvert_exporter": "python",
   "pygments_lexer": "ipython3",
   "version": "3.10.12"
  }
 },
 "nbformat": 4,
 "nbformat_minor": 4
}
