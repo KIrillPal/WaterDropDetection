{
 "cells": [
  {
   "cell_type": "markdown",
   "metadata": {
    "collapsed": false,
    "jupyter": {
     "outputs_hidden": false
    },
    "pycharm": {
     "name": "#%% md\n"
    }
   },
   "source": [
    "# Training UNet for drop segmentation"
   ]
  },
  {
   "cell_type": "code",
   "execution_count": 1,
   "metadata": {},
   "outputs": [],
   "source": [
    "import torch\n",
    "from checkpoints import *\n",
    "from measures import *"
   ]
  },
  {
   "cell_type": "code",
   "execution_count": 2,
   "metadata": {
    "collapsed": false,
    "jupyter": {
     "outputs_hidden": false
    },
    "pycharm": {
     "name": "#%%\n"
    }
   },
   "outputs": [
    {
     "name": "stdout",
     "output_type": "stream",
     "text": [
      "Training using cuda\n"
     ]
    }
   ],
   "source": [
    "config = {\n",
    "    \"lr\": 0.001,\n",
    "    \"batch_size\": 16,\n",
    "    \"epochs\": 20,\n",
    "    \"threshold\": 0.3,\n",
    "    \"init_from_checkpoint\": False,\n",
    "    \"image_dir\": '../../data/stereo/train/image',\n",
    "    \"mask_dir\": '../../data/stereo/train/mask',\n",
    "    \"device\": \"cuda\" if torch.cuda.is_available() else \"cpu\",\n",
    "    \"checkpoint_dir\": \"checkpoints\",\n",
    "    \"checkpoint\": None, # if None loads last saved checkpoint\n",
    "    \"print_model\": False,\n",
    "    \"seed\": 3407 # if None uses random seed\n",
    "}\n",
    "print(f\"Training using {config['device']}\")"
   ]
  },
  {
   "cell_type": "code",
   "execution_count": 3,
   "metadata": {},
   "outputs": [],
   "source": [
    "# Set seed\n",
    "if config[\"seed\"] is not None:\n",
    "    torch.manual_seed(config[\"seed\"])  "
   ]
  },
  {
   "cell_type": "code",
   "execution_count": 4,
   "metadata": {
    "collapsed": false,
    "jupyter": {
     "outputs_hidden": false
    },
    "pycharm": {
     "name": "#%%\n"
    }
   },
   "outputs": [
    {
     "name": "stdout",
     "output_type": "stream",
     "text": [
      "Loaded 678 images\n",
      "\n",
      "Train: 611 images, 39 batches\n",
      "Val: 67 images, 5 batches\n"
     ]
    }
   ],
   "source": [
    "# Load train and val datasets and prepare loaders\n",
    "\n",
    "from torch.utils.data import DataLoader\n",
    "import importlib\n",
    "from dataset import WaterDropDataset\n",
    "dataset = WaterDropDataset(\n",
    "    image_dir=config[\"image_dir\"],\n",
    "    mask_dir=config[\"mask_dir\"],\n",
    "    threshold=config[\"threshold\"],\n",
    "    crop_shape=(256, 256)\n",
    ")\n",
    "\n",
    "assert dataset, \"Dataset is empty!\"\n",
    "\n",
    "train_dataset, val_dataset = dataset.random_split(0.1)\n",
    "train_loader = DataLoader(\n",
    "    train_dataset,\n",
    "    batch_size=config[\"batch_size\"],\n",
    "    shuffle=True\n",
    ")\n",
    "val_loader = DataLoader(\n",
    "    val_dataset,\n",
    "    batch_size=config[\"batch_size\"],\n",
    "    shuffle=True\n",
    ")\n",
    "\n",
    "print (f'Loaded {len(dataset)} images\\n')\n",
    "print (f'Train: {len(train_dataset)} images, {len(train_loader)} batches')\n",
    "print (f'Val: {len(val_dataset)} images, {len(val_loader)} batches')"
   ]
  },
  {
   "cell_type": "code",
   "execution_count": 5,
   "metadata": {
    "collapsed": false,
    "jupyter": {
     "outputs_hidden": false
    },
    "pycharm": {
     "name": "#%%\n"
    }
   },
   "outputs": [
    {
     "name": "stdout",
     "output_type": "stream",
     "text": [
      "Randomly initiated parameters\n"
     ]
    }
   ],
   "source": [
    "# Load model, loss function and optimizer\n",
    "from torch import nn\n",
    "from unet import UNet\n",
    "from unet import init_weights\n",
    "from pathlib import Path\n",
    "\n",
    "model = UNet(3).to(config['device'])\n",
    "\n",
    "# Load or fill weights\n",
    "# And set the start_epoch of model\n",
    "if config[\"init_from_checkpoint\"]:\n",
    "    if config[\"checkpoint\"] is None:\n",
    "        path = last_checkpoint(config[\"checkpoint_dir\"])\n",
    "    else:\n",
    "        path = Path(config[\"checkpoint_dir\"], config[\"checkpoint\"])     \n",
    "    checkpoint = torch.load(path)\n",
    "    model.load_state_dict(checkpoint[\"model_state_dict\"])\n",
    "    print(f\"Loaded parameters from '{path}'\")\n",
    "    print_checkpoint(checkpoint)\n",
    "    start_epoch = checkpoint[\"epochs\"]\n",
    "else:\n",
    "    init_weights(model, torch.nn.init.normal_, mean=0., std=1)\n",
    "    print(\"Randomly initiated parameters\")\n",
    "    start_epoch = 0\n",
    "\n",
    "# Set optimizer & loss_fn\n",
    "optimizer = torch.optim.Adam(params=model.parameters(), lr=config['lr'])\n",
    "\n",
    "loss_fn = torch.nn.BCEWithLogitsLoss()\n",
    "scaler = torch.cuda.amp.GradScaler()\n",
    "\n",
    "layers = model.train()\n",
    "if config[\"print_model\"]:\n",
    "    print(layers)"
   ]
  },
  {
   "cell_type": "code",
   "execution_count": 6,
   "metadata": {
    "collapsed": false,
    "jupyter": {
     "outputs_hidden": false
    },
    "pycharm": {
     "name": "#%%\n"
    }
   },
   "outputs": [],
   "source": [
    "def check_accuracy_and_save(model, optimizer, loss_fn, epoch, train_loss, save=True):\n",
    "    model.eval()\n",
    "\n",
    "    losses = []\n",
    "    accuracies = []\n",
    "    precisions = []\n",
    "    recalls = []\n",
    "    with torch.no_grad():\n",
    "        for x, y in val_loader:\n",
    "            x = x.to(config['device'])\n",
    "            y = y.to(config['device'])\n",
    "\n",
    "            pred = model(x)\n",
    "            loss = loss_fn(pred, y)\n",
    "            losses.append(loss.item())\n",
    "            \n",
    "            pred = torch.sigmoid(model(x))\n",
    "            pred = pred.cpu().detach().numpy()\n",
    "            y = y.cpu().detach().numpy()\n",
    "            \n",
    "            accuracies.append(accuracy(y, pred))\n",
    "            precisions.append(precision(y, pred))\n",
    "            recalls.append(recall(y, pred))\n",
    "            \n",
    "    mean = lambda l: sum(l) / len(l)\n",
    "    mean_loss = mean(losses)\n",
    "    print(\"Valid loss:\", mean_loss, '\\n')\n",
    "    print(\"Accuracy: \", mean(accuracies))\n",
    "    print(\"Precision:\", mean(precisions))\n",
    "    print(\"Recall:   \", mean(recalls), '\\n')\n",
    "    model.train()\n",
    "\n",
    "    if save:\n",
    "        save_checkpoint(\n",
    "            config[\"checkpoint_dir\"],\n",
    "            model,\n",
    "            optimizer,\n",
    "            loss_fn,\n",
    "            epoch,\n",
    "            train_loss,\n",
    "            mean_loss\n",
    "        )"
   ]
  },
  {
   "cell_type": "code",
   "execution_count": 7,
   "metadata": {
    "collapsed": false,
    "jupyter": {
     "outputs_hidden": false
    },
    "pycharm": {
     "name": "#%%\n"
    }
   },
   "outputs": [],
   "source": [
    "from tqdm.notebook import tqdm\n",
    "from sys import stdout\n",
    "def train(save_checkpoints=True):\n",
    "    for epoch in range(config['epochs']):\n",
    "        epoch += start_epoch\n",
    "        print(\"Epoch\", epoch)\n",
    "        \n",
    "        loader = tqdm(train_loader)\n",
    "        losses = []\n",
    "        \n",
    "        for image, gt in loader:\n",
    "            image = image.to(config['device'])\n",
    "            gt = gt.float().to(config['device'])\n",
    "            with torch.cuda.amp.autocast():\n",
    "                pred = model(image)\n",
    "                loss = loss_fn(pred, gt)\n",
    "            optimizer.zero_grad()\n",
    "            scaler.scale(loss).backward()\n",
    "            scaler.step(optimizer)\n",
    "            scaler.update()\n",
    "\n",
    "            train_loss = loss.item()\n",
    "            losses.append(train_loss)\n",
    "            loader.set_postfix(loss=train_loss)\n",
    "\n",
    "        mean_loss = sum(losses) / len(losses)\n",
    "        print(\"Train loss:\", mean_loss)\n",
    "        check_accuracy_and_save(\n",
    "            model, \n",
    "            optimizer,\n",
    "            loss_fn,\n",
    "            epoch, \n",
    "            mean_loss,\n",
    "            save=save_checkpoints\n",
    "        )"
   ]
  },
  {
   "cell_type": "code",
   "execution_count": null,
   "metadata": {},
   "outputs": [
    {
     "name": "stdout",
     "output_type": "stream",
     "text": [
      "Epoch 0\n"
     ]
    },
    {
     "data": {
      "application/vnd.jupyter.widget-view+json": {
       "model_id": "1e786d65beee412b8ed2211ee62a055c",
       "version_major": 2,
       "version_minor": 0
      },
      "text/plain": [
       "  0%|          | 0/39 [00:00<?, ?it/s]"
      ]
     },
     "metadata": {},
     "output_type": "display_data"
    }
   ],
   "source": [
    "train(save_checkpoints=False)"
   ]
  },
  {
   "cell_type": "markdown",
   "metadata": {
    "collapsed": false,
    "jupyter": {
     "outputs_hidden": false
    },
    "pycharm": {
     "name": "#%% md\n"
    }
   },
   "source": [
    "# Estimation"
   ]
  },
  {
   "cell_type": "code",
   "execution_count": null,
   "metadata": {
    "collapsed": false,
    "jupyter": {
     "outputs_hidden": false
    },
    "pycharm": {
     "name": "#%%\n"
    }
   },
   "outputs": [],
   "source": [
    "def predict(model, x, y, binary_map=True, binary_threshold=0.4):\n",
    "    image_np = x.detach().numpy()[0][0]\n",
    "    gt_np = y.detach().numpy()[0][0]\n",
    "\n",
    "    model.eval()\n",
    "    with torch.no_grad():\n",
    "        x = x.to(config['device'])\n",
    "        y = y.to(config['device'])\n",
    "\n",
    "        pred = torch.sigmoid(model(x))\n",
    "    model.train()\n",
    "    pred_np  = pred.cpu().detach().numpy()[0][0]\n",
    "    if binary_map:\n",
    "        pred_np = pred_np >= binary_threshold\n",
    "    return image_np, gt_np, pred_np"
   ]
  },
  {
   "cell_type": "code",
   "execution_count": null,
   "metadata": {
    "collapsed": false,
    "jupyter": {
     "outputs_hidden": false
    },
    "pycharm": {
     "name": "#%%\n"
    }
   },
   "outputs": [],
   "source": [
    "def plot_prediction(dataset, idx, binary_map=True, binary_threshold=0.42):\n",
    "    x, y = val_dataset[idx]\n",
    "    x = torch.stack([x])\n",
    "    y = torch.stack([y])\n",
    "    x, y, pred = predict(model, x, y, binary_map, binary_threshold)\n",
    "    print(\"Accuracy: \", accuracy([y], [pred]))\n",
    "    print(\"Precision:\", precision([y], [pred]))\n",
    "    print(\"Recall:   \", recall([y], [pred]))\n",
    "    \n",
    "    from matplotlib import pyplot as plt\n",
    "    from PIL import Image\n",
    "    plt.hsv()\n",
    "    fig, axs = plt.subplots(1, 3, figsize=(17, 10))\n",
    "    \n",
    "    axs[0].imshow(x, cmap='gray')\n",
    "    axs[1].imshow(y, cmap='gray')\n",
    "    axs[2].imshow(pred, cmap='gray')"
   ]
  },
  {
   "cell_type": "code",
   "execution_count": null,
   "metadata": {},
   "outputs": [],
   "source": [
    "# Get prediction for random image and crop\n",
    "from random import randint\n",
    "idx = randint(0, len(val_dataset)-1)\n",
    "print(\"Index:\", idx)\n",
    "plot_prediction(val_dataset, idx, binary_map=True)"
   ]
  },
  {
   "cell_type": "code",
   "execution_count": null,
   "metadata": {},
   "outputs": [],
   "source": [
    "# Clear checkpoints by condition\n",
    "#clear_checkpoints(config[\"checkpoint_dir\"], condition=lambda ch: ch[\"val_loss\"] >= 0.34, save_last=0)"
   ]
  },
  {
   "cell_type": "code",
   "execution_count": null,
   "metadata": {},
   "outputs": [],
   "source": [
    "!ls -la checkpoints"
   ]
  },
  {
   "cell_type": "code",
   "execution_count": null,
   "metadata": {},
   "outputs": [],
   "source": []
  }
 ],
 "metadata": {
  "kernelspec": {
   "display_name": "Python 3 (ipykernel)",
   "language": "python",
   "name": "python3"
  },
  "language_info": {
   "codemirror_mode": {
    "name": "ipython",
    "version": 3
   },
   "file_extension": ".py",
   "mimetype": "text/x-python",
   "name": "python",
   "nbconvert_exporter": "python",
   "pygments_lexer": "ipython3",
   "version": "3.10.12"
  }
 },
 "nbformat": 4,
 "nbformat_minor": 4
}
