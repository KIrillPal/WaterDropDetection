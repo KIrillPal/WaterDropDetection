{
 "cells": [
  {
   "cell_type": "markdown",
   "metadata": {
    "collapsed": false,
    "jupyter": {
     "outputs_hidden": false
    },
    "pycharm": {
     "name": "#%% md\n"
    }
   },
   "source": [
    "# Training UNet for drop segmentation"
   ]
  },
  {
   "cell_type": "code",
   "execution_count": 154,
   "metadata": {},
   "outputs": [],
   "source": [
    "import torch\n",
    "from checkpoints import *\n",
    "from measures import *"
   ]
  },
  {
   "cell_type": "code",
   "execution_count": 155,
   "metadata": {
    "collapsed": false,
    "jupyter": {
     "outputs_hidden": false
    },
    "pycharm": {
     "name": "#%%\n"
    }
   },
   "outputs": [
    {
     "name": "stdout",
     "output_type": "stream",
     "text": [
      "Training using cuda\n"
     ]
    }
   ],
   "source": [
    "config = {\n",
    "    \"lr\": 0.002,\n",
    "    \"batch_size\": 16,\n",
    "    \"epochs\": 65,\n",
    "    \"threshold\": 0.3,\n",
    "    \"init_from_checkpoint\": False,\n",
    "    \"input_mode\": \"RGBD\",\n",
    "    \"image_dir\": '../../data/stereo/train/image',\n",
    "    \"mask_dir\": '../../data/stereo/train/mask',\n",
    "    \"device\": \"cuda\" if torch.cuda.is_available() else \"cpu\",\n",
    "    \"checkpoint_dir\": \"cg_checkpoints\",\n",
    "    \"checkpoint\": \"UNetRGBDBCEt30v32e60.pt\", # if None loads last saved checkpoint\n",
    "    \"print_model\": False,\n",
    "    \"binarization\": True,\n",
    "    \"seed\": 3407 # if None uses random seed\n",
    "}\n",
    "\n",
    "config[\"channels\"] = len(config[\"input_mode\"])\n",
    "print(f\"Training using {config['device']}\")"
   ]
  },
  {
   "cell_type": "code",
   "execution_count": null,
   "metadata": {},
   "outputs": [],
   "source": [
    "def parse_mode(mode, depth=4):\n",
    "    extras=[0] * 4\n",
    "    in_channels = 0\n",
    "    for c in mode:\n",
    "        if c in 'RGBHSVP':\n",
    "            in_channels = in_channels + 1\n",
    "        elif c == 'D':\n",
    "            dwt = [0, 3, 3, 3]\n",
    "            extras = "
   ]
  },
  {
   "cell_type": "code",
   "execution_count": 156,
   "metadata": {},
   "outputs": [],
   "source": [
    "# Set seed\n",
    "if config[\"seed\"] is not None:\n",
    "    torch.manual_seed(config[\"seed\"])  "
   ]
  },
  {
   "cell_type": "code",
   "execution_count": 157,
   "metadata": {},
   "outputs": [],
   "source": [
    "def random_split(dataset, val_percent=0.15, test_percent=0.15):\n",
    "    val_size = int(len(dataset) * val_percent)\n",
    "    test_size = int(len(dataset) * test_percent)\n",
    "    train_size = len(dataset) - val_size - test_size\n",
    "    return torch.utils.data.random_split(dataset, [train_size, val_size, test_size])"
   ]
  },
  {
   "cell_type": "code",
   "execution_count": 158,
   "metadata": {
    "collapsed": false,
    "jupyter": {
     "outputs_hidden": false
    },
    "pycharm": {
     "name": "#%%\n"
    }
   },
   "outputs": [
    {
     "name": "stdout",
     "output_type": "stream",
     "text": [
      "Loaded 836 images\n",
      "\n",
      "Train: 670 images, 42 batches\n",
      "Val:   83 images, 6 batches\n",
      "Test:  83 images, 6 batches\n"
     ]
    }
   ],
   "source": [
    "# Load train and val datasets and prepare loaders\n",
    "\n",
    "from torch.utils.data import DataLoader\n",
    "import importlib\n",
    "import dataset\n",
    "importlib.reload(dataset)\n",
    "from dataset import WaterDropDataset\n",
    "dataset = WaterDropDataset(\n",
    "    mode=config[\"input_mode\"],\n",
    "    image_dir=config[\"image_dir\"],\n",
    "    mask_dir=config[\"mask_dir\"],\n",
    "    binarization = config[\"binarization\"],\n",
    "    threshold=config[\"threshold\"],\n",
    "    crop_shape=(256, 256)\n",
    ")\n",
    "\n",
    "assert dataset, \"Dataset is empty!\"\n",
    "\n",
    "train_dataset, val_dataset, test_dataset = random_split(dataset, 0.1, 0.1)\n",
    "train_loader = DataLoader(\n",
    "    train_dataset,\n",
    "    batch_size=config[\"batch_size\"],\n",
    "    shuffle=True\n",
    ")\n",
    "val_loader = DataLoader(\n",
    "    val_dataset,\n",
    "    batch_size=config[\"batch_size\"],\n",
    "    shuffle=True\n",
    ")\n",
    "test_loader = DataLoader(\n",
    "    test_dataset,\n",
    "    batch_size=config[\"batch_size\"],\n",
    "    shuffle=True\n",
    ")\n",
    "\n",
    "print (f'Loaded {len(dataset)} images\\n')\n",
    "print (f'Train: {len(train_dataset)} images, {len(train_loader)} batches')\n",
    "print (f'Val:   {len(val_dataset)} images, {len(val_loader)} batches')\n",
    "print (f'Test:  {len(test_dataset)} images, {len(test_loader)} batches')"
   ]
  },
  {
   "cell_type": "code",
   "execution_count": 159,
   "metadata": {
    "collapsed": false,
    "jupyter": {
     "outputs_hidden": false
    },
    "pycharm": {
     "name": "#%%\n"
    }
   },
   "outputs": [
    {
     "name": "stdout",
     "output_type": "stream",
     "text": [
      "Randomly initiated parameters\n"
     ]
    }
   ],
   "source": [
    "# Load model, loss function and optimizer\n",
    "from torch import nn\n",
    "from unet import UNet, RUNet\n",
    "from unet import init_weights\n",
    "from pathlib import Path\n",
    "from torch.optim import lr_scheduler\n",
    "\n",
    "model = UNet(config[\"channels\"]).to(config['device'])\n",
    "optimizer = torch.optim.Adam(params=model.parameters(), lr=config[\"lr\"])\n",
    "\n",
    "# Load or fill weights\n",
    "# And set the start_epoch of model\n",
    "best_checkpoint = None\n",
    "if config[\"init_from_checkpoint\"]:\n",
    "    # Load checkpoint\n",
    "    if config[\"checkpoint\"] is None:\n",
    "        path = last_checkpoint(config[\"checkpoint_dir\"])\n",
    "    else:\n",
    "        path = Path(config[\"checkpoint_dir\"], config[\"checkpoint\"])     \n",
    "    checkpoint = torch.load(path)\n",
    "    best_checkpoint = checkpoint\n",
    "    \n",
    "    # Load model & optim from checkpoint\n",
    "    model.load_state_dict(checkpoint[\"model_state_dict\"])\n",
    "    #optimizer.load_state_dict(checkpoint[\"optimizer_state_dict\"])\n",
    "    print(f\"Loaded parameters from '{path}'\")\n",
    "    print_checkpoint(checkpoint)\n",
    "    start_epoch = checkpoint[\"epochs\"]\n",
    "else:\n",
    "    init_weights(model, torch.nn.init.normal_, mean=0., std=1)\n",
    "    print(\"Randomly initiated parameters\")\n",
    "    start_epoch = 0\n",
    "\n",
    "scheduler = lr_scheduler.MultiStepLR(\n",
    "    optimizer, \n",
    "    milestones=[8, 16, 32, 64],\n",
    "    gamma=0.63\n",
    ")\n",
    "\n",
    "loss_fn = torch.nn.BCEWithLogitsLoss()\n",
    "scaler = torch.cuda.amp.GradScaler()\n",
    "\n",
    "layers = model.train()\n",
    "if config[\"print_model\"]:\n",
    "    print(layers)"
   ]
  },
  {
   "cell_type": "code",
   "execution_count": 160,
   "metadata": {},
   "outputs": [],
   "source": [
    "def validate(model, loss_fn):\n",
    "    import math\n",
    "    model.eval()\n",
    "\n",
    "    losses = []\n",
    "    accuracies = []\n",
    "    precisions = []\n",
    "    recalls = []\n",
    "    ious = []\n",
    "    with torch.no_grad():\n",
    "        for x, y in val_loader:\n",
    "            x = x.to(config['device'])\n",
    "            y = y.to(config['device'])\n",
    "\n",
    "            pred = model(x)\n",
    "            loss = loss_fn(pred, y)\n",
    "            \n",
    "            \n",
    "            if not math.isnan(loss.item()):\n",
    "                losses.append(loss.item())\n",
    "            else:\n",
    "                print(\"Nan on validation\")\n",
    "            \n",
    "            pred = torch.sigmoid(model(x))\n",
    "            pred = pred.cpu().detach().numpy()\n",
    "            y = y.cpu().detach().numpy()\n",
    "\n",
    "            if config[\"binarization\"]:\n",
    "                pred = (pred >= config[\"threshold\"])\n",
    "            \n",
    "            accuracies.append(accuracy(y, pred))\n",
    "            ious.append(IoU(y, pred))\n",
    "            precisions.append(precision(y, pred))\n",
    "            recalls.append(recall(y, pred))\n",
    "    model.train()         \n",
    "    mean = lambda l: sum(l) / len(l) if len(l) > 0 else -1\n",
    "    return mean(losses), mean(ious), mean(accuracies), mean(precisions), mean(recalls)"
   ]
  },
  {
   "cell_type": "code",
   "execution_count": 161,
   "metadata": {},
   "outputs": [],
   "source": [
    "def ch_score(checkpoint):\n",
    "    return checkpoint[\"iou\"]"
   ]
  },
  {
   "cell_type": "code",
   "execution_count": 162,
   "metadata": {},
   "outputs": [],
   "source": [
    "if not config[\"init_from_checkpoint\"]:\n",
    "    best_checkpoint = {\n",
    "        \"name\": \"nullcheck\",\n",
    "        \"epochs\": 0,\n",
    "        \"model_state_dict\": [],\n",
    "        \"optimizer_state_dict\": [],\n",
    "        \"train_loss\": 1e100,\n",
    "        \"val_loss\": 1e100,\n",
    "        \"iou\": 0,\n",
    "        \"accuracy\": 0,\n",
    "        \"precision\": 0,\n",
    "        \"recall\": 0\n",
    "    }"
   ]
  },
  {
   "cell_type": "code",
   "execution_count": 163,
   "metadata": {
    "collapsed": false,
    "jupyter": {
     "outputs_hidden": false
    },
    "pycharm": {
     "name": "#%%\n"
    }
   },
   "outputs": [],
   "source": [
    "from tqdm.notebook import tqdm\n",
    "from sys import stdout\n",
    "import math\n",
    "import wandb\n",
    "from datetime import datetime\n",
    "\n",
    "\n",
    "def train(save_checkpoints=True, lr=None):\n",
    "    # If lr=None, learning rate is used from optimizer\n",
    "    if lr is not None:\n",
    "        optimizer.param_groups[0][\"lr\"] = lr\n",
    "    global best_checkpoint\n",
    "\n",
    "    # Start wandb\n",
    "    wandb.init(\n",
    "        name=\"Run\" + str(datetime.now()),\n",
    "        project=\"water-drop-detection\",\n",
    "        config={\n",
    "        \"learning_rate\": config[\"lr\"],\n",
    "        \"architecture\": \"UNet\",\n",
    "        \"dataset\": \"Stereo\",\n",
    "        \"epochs\": config[\"epochs\"],\n",
    "        \"checkpoint\": best_checkpoint\n",
    "        }\n",
    "    )\n",
    "    \n",
    "    for epoch in range(config['epochs']):\n",
    "        epoch += start_epoch\n",
    "        print(\"Epoch\", epoch, \"| lr\", optimizer.state_dict()[\"param_groups\"][0][\"lr\"])\n",
    "        \n",
    "        loader = tqdm(train_loader)\n",
    "        losses = []\n",
    "\n",
    "        # Training this epoch\n",
    "        for image, gt in loader:\n",
    "            image = image.to(config['device'])\n",
    "            gt = gt.float().to(config['device'])\n",
    "            with torch.cuda.amp.autocast():\n",
    "                pred = model(image)\n",
    "                if math.isnan(torch.max(pred)):\n",
    "                    print(f\"NaN pred occured\")\n",
    "                loss = loss_fn(pred, gt)\n",
    "            optimizer.zero_grad()\n",
    "            scaler.scale(loss).backward()\n",
    "            scaler.step(optimizer)\n",
    "            scaler.update()\n",
    "        \n",
    "            train_loss = loss.item()\n",
    "            if math.isnan(train_loss):\n",
    "                print(f\"NaN loss occured\")\n",
    "                return\n",
    "            \n",
    "            losses.append(train_loss)\n",
    "            loader.set_postfix(loss=train_loss)\n",
    "            \n",
    "        optimizer.step()\n",
    "        scheduler.step()\n",
    "\n",
    "\n",
    "        # Compute metrics\n",
    "        train_loss = sum(losses) / len(losses)\n",
    "        checkpoint = get_checkpoint( \n",
    "                model,\n",
    "                config[\"input_mode\"],\n",
    "                optimizer,\n",
    "                loss_fn,\n",
    "                epoch,\n",
    "                train_loss,\n",
    "                *validate(model, loss_fn)\n",
    "            )\n",
    "        print_checkpoint(checkpoint)\n",
    "\n",
    "        wandb.log({\"checkpoint\": checkpoint})\n",
    "        \n",
    "        if save_checkpoints:\n",
    "            save_checkpoint(\n",
    "                checkpoint,\n",
    "                config[\"checkpoint_dir\"],\n",
    "                checkpoint[\"name\"]\n",
    "            )\n",
    "        # Find best checkpoint\n",
    "        elif ch_score(best_checkpoint) < ch_score(checkpoint):\n",
    "            best_checkpoint = checkpoint\n",
    "    wandb.finish()"
   ]
  },
  {
   "cell_type": "code",
   "execution_count": 164,
   "metadata": {
    "scrolled": true
   },
   "outputs": [
    {
     "data": {
      "text/html": [
       "Tracking run with wandb version 0.15.8"
      ],
      "text/plain": [
       "<IPython.core.display.HTML object>"
      ]
     },
     "metadata": {},
     "output_type": "display_data"
    },
    {
     "data": {
      "text/html": [
       "Run data is saved locally in <code>/beta/students/kondrashov/WaterDropDetection/research/segmentation/wandb/run-20230817_231856-a989aq0z</code>"
      ],
      "text/plain": [
       "<IPython.core.display.HTML object>"
      ]
     },
     "metadata": {},
     "output_type": "display_data"
    },
    {
     "data": {
      "text/html": [
       "Syncing run <strong><a href='https://wandb.ai/kirpall/water-drop-detection/runs/a989aq0z' target=\"_blank\">Run2023-08-17 23:18:56.784578</a></strong> to <a href='https://wandb.ai/kirpall/water-drop-detection' target=\"_blank\">Weights & Biases</a> (<a href='https://wandb.me/run' target=\"_blank\">docs</a>)<br/>"
      ],
      "text/plain": [
       "<IPython.core.display.HTML object>"
      ]
     },
     "metadata": {},
     "output_type": "display_data"
    },
    {
     "data": {
      "text/html": [
       " View project at <a href='https://wandb.ai/kirpall/water-drop-detection' target=\"_blank\">https://wandb.ai/kirpall/water-drop-detection</a>"
      ],
      "text/plain": [
       "<IPython.core.display.HTML object>"
      ]
     },
     "metadata": {},
     "output_type": "display_data"
    },
    {
     "data": {
      "text/html": [
       " View run at <a href='https://wandb.ai/kirpall/water-drop-detection/runs/a989aq0z' target=\"_blank\">https://wandb.ai/kirpall/water-drop-detection/runs/a989aq0z</a>"
      ],
      "text/plain": [
       "<IPython.core.display.HTML object>"
      ]
     },
     "metadata": {},
     "output_type": "display_data"
    },
    {
     "name": "stdout",
     "output_type": "stream",
     "text": [
      "Epoch 0 | lr 0.002\n"
     ]
    },
    {
     "data": {
      "application/vnd.jupyter.widget-view+json": {
       "model_id": "f4001401911c47b59df62dbad4a3c835",
       "version_major": 2,
       "version_minor": 0
      },
      "text/plain": [
       "  0%|          | 0/42 [00:00<?, ?it/s]"
      ]
     },
     "metadata": {},
     "output_type": "display_data"
    },
    {
     "name": "stdout",
     "output_type": "stream",
     "text": [
      "Train BCE loss: 0.859589410679681\n",
      "Valid BCE loss: 0.6163646678129832\n",
      "IoU:       0.23442004734857214 \n",
      "\n",
      "Accuracy:  0.45119343863593203\n",
      "Precision: 0.7375665681643618\n",
      "Recall:    0.2734193890209629 \n",
      "\n",
      "Epoch 1 | lr 0.002\n"
     ]
    },
    {
     "data": {
      "application/vnd.jupyter.widget-view+json": {
       "model_id": "7178e7ab703546149580c3060278b0bf",
       "version_major": 2,
       "version_minor": 0
      },
      "text/plain": [
       "  0%|          | 0/42 [00:00<?, ?it/s]"
      ]
     },
     "metadata": {},
     "output_type": "display_data"
    },
    {
     "name": "stdout",
     "output_type": "stream",
     "text": [
      "Train BCE loss: 0.5753425998347146\n",
      "Valid BCE loss: 0.5419776191314062\n",
      "IoU:       0.2674820277219017 \n",
      "\n",
      "Accuracy:  0.6654767460293239\n",
      "Precision: 0.5178833800342141\n",
      "Recall:    0.3760223995514942 \n",
      "\n",
      "Epoch 2 | lr 0.002\n"
     ]
    },
    {
     "data": {
      "application/vnd.jupyter.widget-view+json": {
       "model_id": "e673921eea2f49c4a56008d9be9526c3",
       "version_major": 2,
       "version_minor": 0
      },
      "text/plain": [
       "  0%|          | 0/42 [00:00<?, ?it/s]"
      ]
     },
     "metadata": {},
     "output_type": "display_data"
    },
    {
     "name": "stdout",
     "output_type": "stream",
     "text": [
      "Train BCE loss: 0.5454333140736535\n",
      "Valid BCE loss: 0.5171832193930944\n",
      "IoU:       0.2851651821078526 \n",
      "\n",
      "Accuracy:  0.6307108667161729\n",
      "Precision: 0.6462087202687851\n",
      "Recall:    0.36264344099170215 \n",
      "\n",
      "Epoch 3 | lr 0.002\n"
     ]
    },
    {
     "data": {
      "application/vnd.jupyter.widget-view+json": {
       "model_id": "81fb80a3108d4a4a9302a7ce8f48c59d",
       "version_major": 2,
       "version_minor": 0
      },
      "text/plain": [
       "  0%|          | 0/42 [00:00<?, ?it/s]"
      ]
     },
     "metadata": {},
     "output_type": "display_data"
    },
    {
     "name": "stdout",
     "output_type": "stream",
     "text": [
      "Train BCE loss: 0.5239376993406386\n",
      "Valid BCE loss: 0.5203200578689575\n",
      "IoU:       0.31028902460820973 \n",
      "\n",
      "Accuracy:  0.5980300903320312\n",
      "Precision: 0.802455369900498\n",
      "Recall:    0.3469541041404718 \n",
      "\n",
      "Epoch 4 | lr 0.002\n"
     ]
    },
    {
     "data": {
      "application/vnd.jupyter.widget-view+json": {
       "model_id": "aa6e8b9c93e04cd0bba08347415fb5ff",
       "version_major": 2,
       "version_minor": 0
      },
      "text/plain": [
       "  0%|          | 0/42 [00:00<?, ?it/s]"
      ]
     },
     "metadata": {},
     "output_type": "display_data"
    },
    {
     "name": "stdout",
     "output_type": "stream",
     "text": [
      "Train BCE loss: 0.49608765968254637\n",
      "Valid BCE loss: 0.5622455775737762\n",
      "IoU:       0.30563568556681275 \n",
      "\n",
      "Accuracy:  0.5460232098897299\n",
      "Precision: 0.870965720878707\n",
      "Recall:    0.3294791444789332 \n",
      "\n",
      "Epoch 5 | lr 0.002\n"
     ]
    },
    {
     "data": {
      "application/vnd.jupyter.widget-view+json": {
       "model_id": "16d2925867fd48daab32bb79c002a0f5",
       "version_major": 2,
       "version_minor": 0
      },
      "text/plain": [
       "  0%|          | 0/42 [00:00<?, ?it/s]"
      ]
     },
     "metadata": {},
     "output_type": "display_data"
    },
    {
     "name": "stdout",
     "output_type": "stream",
     "text": [
      "Train BCE loss: 0.47996889693396433\n",
      "Valid BCE loss: 0.4673460125923157\n",
      "IoU:       0.3244693140602774 \n",
      "\n",
      "Accuracy:  0.7659066518147787\n",
      "Precision: 0.5271924318771603\n",
      "Recall:    0.5359574272855534 \n",
      "\n",
      "Epoch 6 | lr 0.002\n"
     ]
    },
    {
     "data": {
      "application/vnd.jupyter.widget-view+json": {
       "model_id": "9bff9221d73d41abb0818fda111b4c75",
       "version_major": 2,
       "version_minor": 0
      },
      "text/plain": [
       "  0%|          | 0/42 [00:00<?, ?it/s]"
      ]
     },
     "metadata": {},
     "output_type": "display_data"
    },
    {
     "name": "stdout",
     "output_type": "stream",
     "text": [
      "Train BCE loss: 0.46063545488175894\n",
      "Valid BCE loss: 0.4430537124474843\n",
      "IoU:       0.39945125119346714 \n",
      "\n",
      "Accuracy:  0.7905306816101074\n",
      "Precision: 0.5953892528907293\n",
      "Recall:    0.6118497094097136 \n",
      "\n",
      "Epoch 7 | lr 0.002\n"
     ]
    },
    {
     "data": {
      "application/vnd.jupyter.widget-view+json": {
       "model_id": "1fa9a49b14ba4afe81aeadcd669fa35c",
       "version_major": 2,
       "version_minor": 0
      },
      "text/plain": [
       "  0%|          | 0/42 [00:00<?, ?it/s]"
      ]
     },
     "metadata": {},
     "output_type": "display_data"
    },
    {
     "name": "stdout",
     "output_type": "stream",
     "text": [
      "Train BCE loss: 0.4565679281949997\n",
      "Valid BCE loss: 0.4329422513643901\n",
      "IoU:       0.383177424263623 \n",
      "\n",
      "Accuracy:  0.7578490045335559\n",
      "Precision: 0.6666249260306358\n",
      "Recall:    0.5294951563885156 \n",
      "\n",
      "Epoch 8 | lr 0.00126\n"
     ]
    },
    {
     "data": {
      "application/vnd.jupyter.widget-view+json": {
       "model_id": "6b19e1fb924845f78cd618e65d702eb9",
       "version_major": 2,
       "version_minor": 0
      },
      "text/plain": [
       "  0%|          | 0/42 [00:00<?, ?it/s]"
      ]
     },
     "metadata": {},
     "output_type": "display_data"
    },
    {
     "name": "stdout",
     "output_type": "stream",
     "text": [
      "Train BCE loss: 0.4379591594139735\n",
      "Valid BCE loss: 0.43641509115695953\n",
      "IoU:       0.4091415641725891 \n",
      "\n",
      "Accuracy:  0.7475701438056098\n",
      "Precision: 0.7389267648880681\n",
      "Recall:    0.5062626406479961 \n",
      "\n",
      "Epoch 9 | lr 0.00126\n"
     ]
    },
    {
     "data": {
      "application/vnd.jupyter.widget-view+json": {
       "model_id": "200b7594d7194288a972df7712cbe090",
       "version_major": 2,
       "version_minor": 0
      },
      "text/plain": [
       "  0%|          | 0/42 [00:00<?, ?it/s]"
      ]
     },
     "metadata": {},
     "output_type": "display_data"
    },
    {
     "name": "stdout",
     "output_type": "stream",
     "text": [
      "Train BCE loss: 0.4303889175256093\n",
      "Valid BCE loss: 0.42723168929417926\n",
      "IoU:       0.4432079328560374 \n",
      "\n",
      "Accuracy:  0.8045654296875\n",
      "Precision: 0.6095437080366537\n",
      "Recall:    0.6424350475787619 \n",
      "\n",
      "Epoch 10 | lr 0.00126\n"
     ]
    },
    {
     "data": {
      "application/vnd.jupyter.widget-view+json": {
       "model_id": "29a803a27d2146d0aac4bdbdd8db3034",
       "version_major": 2,
       "version_minor": 0
      },
      "text/plain": [
       "  0%|          | 0/42 [00:00<?, ?it/s]"
      ]
     },
     "metadata": {},
     "output_type": "display_data"
    },
    {
     "name": "stdout",
     "output_type": "stream",
     "text": [
      "Train BCE loss: 0.4187133219980058\n",
      "Valid BCE loss: 0.3897865066925685\n",
      "IoU:       0.43275091067577404 \n",
      "\n",
      "Accuracy:  0.8018465042114258\n",
      "Precision: 0.6734700824341012\n",
      "Recall:    0.570393193770078 \n",
      "\n",
      "Epoch 11 | lr 0.00126\n"
     ]
    },
    {
     "data": {
      "application/vnd.jupyter.widget-view+json": {
       "model_id": "d6f411ff54e9419c92d01a7cb6d8037d",
       "version_major": 2,
       "version_minor": 0
      },
      "text/plain": [
       "  0%|          | 0/42 [00:00<?, ?it/s]"
      ]
     },
     "metadata": {},
     "output_type": "display_data"
    },
    {
     "name": "stdout",
     "output_type": "stream",
     "text": [
      "Train BCE loss: 0.4213345121769678\n",
      "Valid BCE loss: 0.4745843360821406\n",
      "IoU:       0.388371059903875 \n",
      "\n",
      "Accuracy:  0.6751568052503797\n",
      "Precision: 0.8360173978532354\n",
      "Recall:    0.42625384135968947 \n",
      "\n",
      "Epoch 12 | lr 0.00126\n"
     ]
    },
    {
     "data": {
      "application/vnd.jupyter.widget-view+json": {
       "model_id": "4b0f2eb60e014018a3f86dd7038945e4",
       "version_major": 2,
       "version_minor": 0
      },
      "text/plain": [
       "  0%|          | 0/42 [00:00<?, ?it/s]"
      ]
     },
     "metadata": {},
     "output_type": "display_data"
    },
    {
     "name": "stdout",
     "output_type": "stream",
     "text": [
      "Train BCE loss: 0.4079137927009946\n",
      "Valid BCE loss: 0.41007543603579205\n",
      "IoU:       0.4366659756698128 \n",
      "\n",
      "Accuracy:  0.7801871829562717\n",
      "Precision: 0.7098622565519892\n",
      "Recall:    0.5574185315451395 \n",
      "\n",
      "Epoch 13 | lr 0.00126\n"
     ]
    },
    {
     "data": {
      "application/vnd.jupyter.widget-view+json": {
       "model_id": "b29042027a5e4ed68b24cf6d9740624f",
       "version_major": 2,
       "version_minor": 0
      },
      "text/plain": [
       "  0%|          | 0/42 [00:00<?, ?it/s]"
      ]
     },
     "metadata": {},
     "output_type": "display_data"
    },
    {
     "name": "stdout",
     "output_type": "stream",
     "text": [
      "Train BCE loss: 0.4068951670612608\n",
      "Valid BCE loss: 0.41516783833503723\n",
      "IoU:       0.44928013621312046 \n",
      "\n",
      "Accuracy:  0.7731378343370227\n",
      "Precision: 0.7519680078969233\n",
      "Recall:    0.5440502974727471 \n",
      "\n",
      "Epoch 14 | lr 0.00126\n"
     ]
    },
    {
     "data": {
      "application/vnd.jupyter.widget-view+json": {
       "model_id": "1df6ccc0489846c787223eb8dd964acb",
       "version_major": 2,
       "version_minor": 0
      },
      "text/plain": [
       "  0%|          | 0/42 [00:00<?, ?it/s]"
      ]
     },
     "metadata": {},
     "output_type": "display_data"
    },
    {
     "name": "stdout",
     "output_type": "stream",
     "text": [
      "Train BCE loss: 0.41087902940454935\n",
      "Valid BCE loss: 0.4040104200442632\n",
      "IoU:       0.46226879866379833 \n",
      "\n",
      "Accuracy:  0.7745613521999783\n",
      "Precision: 0.7788540920656589\n",
      "Recall:    0.5504630713776887 \n",
      "\n",
      "Epoch 15 | lr 0.00126\n"
     ]
    },
    {
     "data": {
      "application/vnd.jupyter.widget-view+json": {
       "model_id": "7888d74fafbd4037a606746fc6e9f4e5",
       "version_major": 2,
       "version_minor": 0
      },
      "text/plain": [
       "  0%|          | 0/42 [00:00<?, ?it/s]"
      ]
     },
     "metadata": {},
     "output_type": "display_data"
    },
    {
     "name": "stdout",
     "output_type": "stream",
     "text": [
      "Train BCE loss: 0.4016359519390833\n",
      "Valid BCE loss: 0.3778735448916753\n",
      "IoU:       0.45028143412330085 \n",
      "\n",
      "Accuracy:  0.8048928048875598\n",
      "Precision: 0.750304117384884\n",
      "Recall:    0.551273084701842 \n",
      "\n",
      "Epoch 16 | lr 0.0007938\n"
     ]
    },
    {
     "data": {
      "application/vnd.jupyter.widget-view+json": {
       "model_id": "cac8e98e007d413e883f900143846ef4",
       "version_major": 2,
       "version_minor": 0
      },
      "text/plain": [
       "  0%|          | 0/42 [00:00<?, ?it/s]"
      ]
     },
     "metadata": {},
     "output_type": "display_data"
    },
    {
     "name": "stdout",
     "output_type": "stream",
     "text": [
      "Train BCE loss: 0.4010161729086013\n",
      "Valid BCE loss: 0.4005829046169917\n",
      "IoU:       0.4408958881265587 \n",
      "\n",
      "Accuracy:  0.8258624076843262\n",
      "Precision: 0.5905833319346938\n",
      "Recall:    0.6546067554250441 \n",
      "\n",
      "Epoch 17 | lr 0.0007938\n"
     ]
    },
    {
     "data": {
      "application/vnd.jupyter.widget-view+json": {
       "model_id": "cbb1e9152c4942049b1b91518614a7eb",
       "version_major": 2,
       "version_minor": 0
      },
      "text/plain": [
       "  0%|          | 0/42 [00:00<?, ?it/s]"
      ]
     },
     "metadata": {},
     "output_type": "display_data"
    },
    {
     "name": "stdout",
     "output_type": "stream",
     "text": [
      "Train BCE loss: 0.3962045269353049\n",
      "Valid BCE loss: 0.3604580859343211\n",
      "IoU:       0.4493944928981364 \n",
      "\n",
      "Accuracy:  0.8291669421725802\n",
      "Precision: 0.6689437205592791\n",
      "Recall:    0.5983277438959647 \n",
      "\n",
      "Epoch 18 | lr 0.0007938\n"
     ]
    },
    {
     "data": {
      "application/vnd.jupyter.widget-view+json": {
       "model_id": "1ac9c5e4efb248389beeb8ba73f14a71",
       "version_major": 2,
       "version_minor": 0
      },
      "text/plain": [
       "  0%|          | 0/42 [00:00<?, ?it/s]"
      ]
     },
     "metadata": {},
     "output_type": "display_data"
    },
    {
     "name": "stdout",
     "output_type": "stream",
     "text": [
      "Train BCE loss: 0.39219445770695094\n",
      "Valid BCE loss: 0.38276374340057373\n",
      "IoU:       0.4678652507459952 \n",
      "\n",
      "Accuracy:  0.8073205418056912\n",
      "Precision: 0.7341202089252571\n",
      "Recall:    0.5848111786380167 \n",
      "\n",
      "Epoch 19 | lr 0.0007938\n"
     ]
    },
    {
     "data": {
      "application/vnd.jupyter.widget-view+json": {
       "model_id": "ee79a269b1ad4c05b712f25894005e2b",
       "version_major": 2,
       "version_minor": 0
      },
      "text/plain": [
       "  0%|          | 0/42 [00:00<?, ?it/s]"
      ]
     },
     "metadata": {},
     "output_type": "display_data"
    },
    {
     "name": "stdout",
     "output_type": "stream",
     "text": [
      "Train BCE loss: 0.3786950657765071\n",
      "Valid BCE loss: 0.36447273194789886\n",
      "IoU:       0.45909997370714944 \n",
      "\n",
      "Accuracy:  0.8064618640475802\n",
      "Precision: 0.7433217993626992\n",
      "Recall:    0.5715663158405441 \n",
      "\n",
      "Epoch 20 | lr 0.0007938\n"
     ]
    },
    {
     "data": {
      "application/vnd.jupyter.widget-view+json": {
       "model_id": "8f1ca0cb0d1946b0a4cedb26ef7941e8",
       "version_major": 2,
       "version_minor": 0
      },
      "text/plain": [
       "  0%|          | 0/42 [00:00<?, ?it/s]"
      ]
     },
     "metadata": {},
     "output_type": "display_data"
    },
    {
     "name": "stdout",
     "output_type": "stream",
     "text": [
      "Train BCE loss: 0.39600057687078205\n",
      "Valid BCE loss: 0.419404278198878\n",
      "IoU:       0.420771092047087 \n",
      "\n",
      "Accuracy:  0.7264972262912326\n",
      "Precision: 0.8310361949519979\n",
      "Recall:    0.46860831625520905 \n",
      "\n",
      "Epoch 21 | lr 0.0007938\n"
     ]
    },
    {
     "data": {
      "application/vnd.jupyter.widget-view+json": {
       "model_id": "bae79981991f4f4ea5358f6c74e10b6c",
       "version_major": 2,
       "version_minor": 0
      },
      "text/plain": [
       "  0%|          | 0/42 [00:00<?, ?it/s]"
      ]
     },
     "metadata": {},
     "output_type": "display_data"
    },
    {
     "name": "stdout",
     "output_type": "stream",
     "text": [
      "Train BCE loss: 0.3845115580729076\n",
      "Valid BCE loss: 0.36884671946366626\n",
      "IoU:       0.46360358187100953 \n",
      "\n",
      "Accuracy:  0.8103660477532281\n",
      "Precision: 0.7261864944723331\n",
      "Recall:    0.5749430605575822 \n",
      "\n",
      "Epoch 22 | lr 0.0007938\n"
     ]
    },
    {
     "data": {
      "application/vnd.jupyter.widget-view+json": {
       "model_id": "cae5d92d28fc47c5b052a98da030efd7",
       "version_major": 2,
       "version_minor": 0
      },
      "text/plain": [
       "  0%|          | 0/42 [00:00<?, ?it/s]"
      ]
     },
     "metadata": {},
     "output_type": "display_data"
    },
    {
     "name": "stdout",
     "output_type": "stream",
     "text": [
      "Train BCE loss: 0.3826189303681964\n",
      "Valid BCE loss: 0.38914617399374646\n",
      "IoU:       0.47330440394580364 \n",
      "\n",
      "Accuracy:  0.7701978153652616\n",
      "Precision: 0.8260932452976704\n",
      "Recall:    0.5284193023069661 \n",
      "\n",
      "Epoch 23 | lr 0.0007938\n"
     ]
    },
    {
     "data": {
      "application/vnd.jupyter.widget-view+json": {
       "model_id": "6dac3600b48d48988c89ceb42f187fae",
       "version_major": 2,
       "version_minor": 0
      },
      "text/plain": [
       "  0%|          | 0/42 [00:00<?, ?it/s]"
      ]
     },
     "metadata": {},
     "output_type": "display_data"
    },
    {
     "name": "stdout",
     "output_type": "stream",
     "text": [
      "Train BCE loss: 0.3661155565863564\n",
      "Valid BCE loss: 0.3829335769017537\n",
      "IoU:       0.4597571473051276 \n",
      "\n",
      "Accuracy:  0.8048101001315646\n",
      "Precision: 0.7361120030076967\n",
      "Recall:    0.579414054928378 \n",
      "\n",
      "Epoch 24 | lr 0.0007938\n"
     ]
    },
    {
     "data": {
      "application/vnd.jupyter.widget-view+json": {
       "model_id": "34de1bc7e2ee421599f74c7215baf608",
       "version_major": 2,
       "version_minor": 0
      },
      "text/plain": [
       "  0%|          | 0/42 [00:00<?, ?it/s]"
      ]
     },
     "metadata": {},
     "output_type": "display_data"
    },
    {
     "name": "stdout",
     "output_type": "stream",
     "text": [
      "Train BCE loss: 0.376120626216843\n",
      "Valid BCE loss: 0.3857138355573018\n",
      "IoU:       0.48242969971357125 \n",
      "\n",
      "Accuracy:  0.826004876030816\n",
      "Precision: 0.6615596533132097\n",
      "Recall:    0.6731640562846478 \n",
      "\n",
      "Epoch 25 | lr 0.0007938\n"
     ]
    },
    {
     "data": {
      "application/vnd.jupyter.widget-view+json": {
       "model_id": "e6ace5b3a6344d508c83cf60fa987883",
       "version_major": 2,
       "version_minor": 0
      },
      "text/plain": [
       "  0%|          | 0/42 [00:00<?, ?it/s]"
      ]
     },
     "metadata": {},
     "output_type": "display_data"
    },
    {
     "name": "stdout",
     "output_type": "stream",
     "text": [
      "Train BCE loss: 0.3808080880414872\n",
      "Valid BCE loss: 0.37282341221968335\n",
      "IoU:       0.4666977990677373 \n",
      "\n",
      "Accuracy:  0.7923058403862847\n",
      "Precision: 0.7487649110456308\n",
      "Recall:    0.5738833727928686 \n",
      "\n",
      "Epoch 26 | lr 0.0007938\n"
     ]
    },
    {
     "data": {
      "application/vnd.jupyter.widget-view+json": {
       "model_id": "e95ccb08b2d84f4f9e2816674b41799e",
       "version_major": 2,
       "version_minor": 0
      },
      "text/plain": [
       "  0%|          | 0/42 [00:00<?, ?it/s]"
      ]
     },
     "metadata": {},
     "output_type": "display_data"
    },
    {
     "name": "stdout",
     "output_type": "stream",
     "text": [
      "Train BCE loss: 0.3739234201964878\n",
      "Valid BCE loss: 0.39214785893758136\n",
      "IoU:       0.47251064107856816 \n",
      "\n",
      "Accuracy:  0.8143050935533312\n",
      "Precision: 0.6865370010750161\n",
      "Recall:    0.6299302770553061 \n",
      "\n",
      "Epoch 27 | lr 0.0007938\n"
     ]
    },
    {
     "data": {
      "application/vnd.jupyter.widget-view+json": {
       "model_id": "9ae7e990812b49b3a203fc5cfdac0a60",
       "version_major": 2,
       "version_minor": 0
      },
      "text/plain": [
       "  0%|          | 0/42 [00:00<?, ?it/s]"
      ]
     },
     "metadata": {},
     "output_type": "display_data"
    },
    {
     "name": "stdout",
     "output_type": "stream",
     "text": [
      "Train BCE loss: 0.37506231381779626\n",
      "Valid BCE loss: 0.3612060099840164\n",
      "IoU:       0.45935500382135314 \n",
      "\n",
      "Accuracy:  0.7917564180162219\n",
      "Precision: 0.7830648576426836\n",
      "Recall:    0.5424383991509659 \n",
      "\n",
      "Epoch 28 | lr 0.0007938\n"
     ]
    },
    {
     "data": {
      "application/vnd.jupyter.widget-view+json": {
       "model_id": "01a998d93c354cb5a1e2465a2f3e8fea",
       "version_major": 2,
       "version_minor": 0
      },
      "text/plain": [
       "  0%|          | 0/42 [00:00<?, ?it/s]"
      ]
     },
     "metadata": {},
     "output_type": "display_data"
    },
    {
     "name": "stdout",
     "output_type": "stream",
     "text": [
      "Train BCE loss: 0.37341325055985225\n",
      "Valid BCE loss: 0.33776917060216266\n",
      "IoU:       0.5132187003166312 \n",
      "\n",
      "Accuracy:  0.8380551868014865\n",
      "Precision: 0.7457456869176693\n",
      "Recall:    0.6352378461411836 \n",
      "\n",
      "Epoch 29 | lr 0.0007938\n"
     ]
    },
    {
     "data": {
      "application/vnd.jupyter.widget-view+json": {
       "model_id": "7b85aaa4bff4444e934fbee6b2bba255",
       "version_major": 2,
       "version_minor": 0
      },
      "text/plain": [
       "  0%|          | 0/42 [00:00<?, ?it/s]"
      ]
     },
     "metadata": {},
     "output_type": "display_data"
    },
    {
     "name": "stdout",
     "output_type": "stream",
     "text": [
      "Train BCE loss: 0.3611522238878977\n",
      "Valid BCE loss: 0.38657577832539874\n",
      "IoU:       0.4609010846664508 \n",
      "\n",
      "Accuracy:  0.7841011153327094\n",
      "Precision: 0.747246862285667\n",
      "Recall:    0.5757736268704696 \n",
      "\n",
      "Epoch 30 | lr 0.0007938\n"
     ]
    },
    {
     "data": {
      "application/vnd.jupyter.widget-view+json": {
       "model_id": "e52bf6fe4ff5403d9b073e9f60e25a8b",
       "version_major": 2,
       "version_minor": 0
      },
      "text/plain": [
       "  0%|          | 0/42 [00:00<?, ?it/s]"
      ]
     },
     "metadata": {},
     "output_type": "display_data"
    },
    {
     "name": "stdout",
     "output_type": "stream",
     "text": [
      "Train BCE loss: 0.358078780628386\n",
      "Valid BCE loss: 0.3929562568664551\n",
      "IoU:       0.501850854139775 \n",
      "\n",
      "Accuracy:  0.8236902554829916\n",
      "Precision: 0.659522099679129\n",
      "Recall:    0.6898169544517927 \n",
      "\n",
      "Epoch 31 | lr 0.0007938\n"
     ]
    },
    {
     "data": {
      "application/vnd.jupyter.widget-view+json": {
       "model_id": "2384888c5fbc4bed9f06c5bc535eabdc",
       "version_major": 2,
       "version_minor": 0
      },
      "text/plain": [
       "  0%|          | 0/42 [00:00<?, ?it/s]"
      ]
     },
     "metadata": {},
     "output_type": "display_data"
    },
    {
     "name": "stdout",
     "output_type": "stream",
     "text": [
      "Train BCE loss: 0.3630395183960597\n",
      "Valid BCE loss: 0.36504750450452167\n",
      "IoU:       0.4587574107313736 \n",
      "\n",
      "Accuracy:  0.7771697574191623\n",
      "Precision: 0.8355332610921727\n",
      "Recall:    0.5111430699223629 \n",
      "\n",
      "Epoch 32 | lr 0.000500094\n"
     ]
    },
    {
     "data": {
      "application/vnd.jupyter.widget-view+json": {
       "model_id": "77b9b83da06f4c88bc7a6bd66234914e",
       "version_major": 2,
       "version_minor": 0
      },
      "text/plain": [
       "  0%|          | 0/42 [00:00<?, ?it/s]"
      ]
     },
     "metadata": {},
     "output_type": "display_data"
    },
    {
     "name": "stdout",
     "output_type": "stream",
     "text": [
      "Train BCE loss: 0.35598933554831\n",
      "Valid BCE loss: 0.34361959000428516\n",
      "IoU:       0.4895362247092028 \n",
      "\n",
      "Accuracy:  0.8160370720757378\n",
      "Precision: 0.7748650559224188\n",
      "Recall:    0.5933439950179428 \n",
      "\n",
      "Epoch 33 | lr 0.000500094\n"
     ]
    },
    {
     "data": {
      "application/vnd.jupyter.widget-view+json": {
       "model_id": "76dcb99ea71d4932b5525784f956fdb5",
       "version_major": 2,
       "version_minor": 0
      },
      "text/plain": [
       "  0%|          | 0/42 [00:00<?, ?it/s]"
      ]
     },
     "metadata": {},
     "output_type": "display_data"
    },
    {
     "name": "stdout",
     "output_type": "stream",
     "text": [
      "Train BCE loss: 0.35402682210717884\n",
      "Valid BCE loss: 0.34726719558238983\n",
      "IoU:       0.48370590298953986 \n",
      "\n",
      "Accuracy:  0.8158499929640027\n",
      "Precision: 0.7729429905820223\n",
      "Recall:    0.5820540583397547 \n",
      "\n",
      "Epoch 34 | lr 0.000500094\n"
     ]
    },
    {
     "data": {
      "application/vnd.jupyter.widget-view+json": {
       "model_id": "78ad6bcc8eb04f938266249ab675e13e",
       "version_major": 2,
       "version_minor": 0
      },
      "text/plain": [
       "  0%|          | 0/42 [00:00<?, ?it/s]"
      ]
     },
     "metadata": {},
     "output_type": "display_data"
    },
    {
     "name": "stdout",
     "output_type": "stream",
     "text": [
      "Train BCE loss: 0.35179885086559115\n",
      "Valid BCE loss: 0.3736431648333867\n",
      "IoU:       0.46702576966749293 \n",
      "\n",
      "Accuracy:  0.7722726927863227\n",
      "Precision: 0.8279771434350146\n",
      "Recall:    0.5306938449171443 \n",
      "\n",
      "Epoch 35 | lr 0.000500094\n"
     ]
    },
    {
     "data": {
      "application/vnd.jupyter.widget-view+json": {
       "model_id": "a650011cb9ca4a3e9d177a562dfdf740",
       "version_major": 2,
       "version_minor": 0
      },
      "text/plain": [
       "  0%|          | 0/42 [00:00<?, ?it/s]"
      ]
     },
     "metadata": {},
     "output_type": "display_data"
    },
    {
     "name": "stdout",
     "output_type": "stream",
     "text": [
      "Train BCE loss: 0.3612031184491657\n",
      "Valid BCE loss: 0.37429943184057873\n",
      "IoU:       0.49597703080831307 \n",
      "\n",
      "Accuracy:  0.795512835184733\n",
      "Precision: 0.7895102052845888\n",
      "Recall:    0.5788362071686267 \n",
      "\n",
      "Epoch 36 | lr 0.000500094\n"
     ]
    },
    {
     "data": {
      "application/vnd.jupyter.widget-view+json": {
       "model_id": "2dfb0482071746df918f48612965e77a",
       "version_major": 2,
       "version_minor": 0
      },
      "text/plain": [
       "  0%|          | 0/42 [00:00<?, ?it/s]"
      ]
     },
     "metadata": {},
     "output_type": "display_data"
    },
    {
     "name": "stdout",
     "output_type": "stream",
     "text": [
      "Train BCE loss: 0.3592829753955205\n",
      "Valid BCE loss: 0.3461816708246867\n",
      "IoU:       0.48732961921228307 \n",
      "\n",
      "Accuracy:  0.8090740309821235\n",
      "Precision: 0.7864081292516656\n",
      "Recall:    0.5728902413221222 \n",
      "\n",
      "Epoch 37 | lr 0.000500094\n"
     ]
    },
    {
     "data": {
      "application/vnd.jupyter.widget-view+json": {
       "model_id": "b881c686f0d548518c0a86adf224152c",
       "version_major": 2,
       "version_minor": 0
      },
      "text/plain": [
       "  0%|          | 0/42 [00:00<?, ?it/s]"
      ]
     },
     "metadata": {},
     "output_type": "display_data"
    },
    {
     "name": "stdout",
     "output_type": "stream",
     "text": [
      "Train BCE loss: 0.352873831987381\n",
      "Valid BCE loss: 0.33783644437789917\n",
      "IoU:       0.4807447940693237 \n",
      "\n",
      "Accuracy:  0.836616939968533\n",
      "Precision: 0.7180772234116577\n",
      "Recall:    0.6021257508288606 \n",
      "\n",
      "Epoch 38 | lr 0.000500094\n"
     ]
    },
    {
     "data": {
      "application/vnd.jupyter.widget-view+json": {
       "model_id": "28879cc195c3479cb98ef9f127e333d9",
       "version_major": 2,
       "version_minor": 0
      },
      "text/plain": [
       "  0%|          | 0/42 [00:00<?, ?it/s]"
      ]
     },
     "metadata": {},
     "output_type": "display_data"
    },
    {
     "name": "stdout",
     "output_type": "stream",
     "text": [
      "Train BCE loss: 0.35196775836603983\n",
      "Valid BCE loss: 0.3456932306289673\n",
      "IoU:       0.49388769662214654 \n",
      "\n",
      "Accuracy:  0.8197957144843208\n",
      "Precision: 0.7529065497995665\n",
      "Recall:    0.6081680500204935 \n",
      "\n",
      "Epoch 39 | lr 0.000500094\n"
     ]
    },
    {
     "data": {
      "application/vnd.jupyter.widget-view+json": {
       "model_id": "24b67812cb42456d9e64da9eb5ad685c",
       "version_major": 2,
       "version_minor": 0
      },
      "text/plain": [
       "  0%|          | 0/42 [00:00<?, ?it/s]"
      ]
     },
     "metadata": {},
     "output_type": "display_data"
    },
    {
     "name": "stdout",
     "output_type": "stream",
     "text": [
      "Train BCE loss: 0.349432823913438\n",
      "Valid BCE loss: 0.3513963172833125\n",
      "IoU:       0.48664864372565514 \n",
      "\n",
      "Accuracy:  0.8080336252848307\n",
      "Precision: 0.7723685794820389\n",
      "Recall:    0.5849563459255946 \n",
      "\n",
      "Epoch 40 | lr 0.000500094\n"
     ]
    },
    {
     "data": {
      "application/vnd.jupyter.widget-view+json": {
       "model_id": "80dade80c7ed45f7bf120ff99822e2da",
       "version_major": 2,
       "version_minor": 0
      },
      "text/plain": [
       "  0%|          | 0/42 [00:00<?, ?it/s]"
      ]
     },
     "metadata": {},
     "output_type": "display_data"
    },
    {
     "name": "stdout",
     "output_type": "stream",
     "text": [
      "Train BCE loss: 0.3416159578732082\n",
      "Valid BCE loss: 0.34386638800303143\n",
      "IoU:       0.49059733383667964 \n",
      "\n",
      "Accuracy:  0.8193371031019422\n",
      "Precision: 0.7697526681133442\n",
      "Recall:    0.5878029175173681 \n",
      "\n",
      "Epoch 41 | lr 0.000500094\n"
     ]
    },
    {
     "data": {
      "application/vnd.jupyter.widget-view+json": {
       "model_id": "a683bb1d520745869f471a57ea45148f",
       "version_major": 2,
       "version_minor": 0
      },
      "text/plain": [
       "  0%|          | 0/42 [00:00<?, ?it/s]"
      ]
     },
     "metadata": {},
     "output_type": "display_data"
    },
    {
     "name": "stdout",
     "output_type": "stream",
     "text": [
      "Train BCE loss: 0.34227243278707775\n",
      "Valid BCE loss: 0.32727373639742535\n",
      "IoU:       0.4910605603622065 \n",
      "\n",
      "Accuracy:  0.8423085742526584\n",
      "Precision: 0.6972638343771299\n",
      "Recall:    0.6435960675316008 \n",
      "\n",
      "Epoch 42 | lr 0.000500094\n"
     ]
    },
    {
     "data": {
      "application/vnd.jupyter.widget-view+json": {
       "model_id": "649b8371fe97424dbd73911e04c32ef0",
       "version_major": 2,
       "version_minor": 0
      },
      "text/plain": [
       "  0%|          | 0/42 [00:00<?, ?it/s]"
      ]
     },
     "metadata": {},
     "output_type": "display_data"
    },
    {
     "name": "stdout",
     "output_type": "stream",
     "text": [
      "Train BCE loss: 0.352909083877291\n",
      "Valid BCE loss: 0.3932049622138341\n",
      "IoU:       0.5009464192100698 \n",
      "\n",
      "Accuracy:  0.8417843182881674\n",
      "Precision: 0.632403092355364\n",
      "Recall:    0.719930801407913 \n",
      "\n",
      "Epoch 43 | lr 0.000500094\n"
     ]
    },
    {
     "data": {
      "application/vnd.jupyter.widget-view+json": {
       "model_id": "6abddc8a499e42109478a8ec01343f9b",
       "version_major": 2,
       "version_minor": 0
      },
      "text/plain": [
       "  0%|          | 0/42 [00:00<?, ?it/s]"
      ]
     },
     "metadata": {},
     "output_type": "display_data"
    },
    {
     "name": "stdout",
     "output_type": "stream",
     "text": [
      "Train BCE loss: 0.3454717866012028\n",
      "Valid BCE loss: 0.3643210728963216\n",
      "IoU:       0.4843729623955571 \n",
      "\n",
      "Accuracy:  0.7781285179985894\n",
      "Precision: 0.8493881980992026\n",
      "Recall:    0.5334692647185408 \n",
      "\n",
      "Epoch 44 | lr 0.000500094\n"
     ]
    },
    {
     "data": {
      "application/vnd.jupyter.widget-view+json": {
       "model_id": "5b77bd1f8c3f49e6b6779f3d2189b823",
       "version_major": 2,
       "version_minor": 0
      },
      "text/plain": [
       "  0%|          | 0/42 [00:00<?, ?it/s]"
      ]
     },
     "metadata": {},
     "output_type": "display_data"
    },
    {
     "name": "stdout",
     "output_type": "stream",
     "text": [
      "Train BCE loss: 0.34574143233753385\n",
      "Valid BCE loss: 0.3265589897831281\n",
      "IoU:       0.5155740477041239 \n",
      "\n",
      "Accuracy:  0.8426583078172473\n",
      "Precision: 0.7405759446943799\n",
      "Recall:    0.6490926536734973 \n",
      "\n",
      "Epoch 45 | lr 0.000500094\n"
     ]
    },
    {
     "data": {
      "application/vnd.jupyter.widget-view+json": {
       "model_id": "d91404d6da644c9dba725083d38d3712",
       "version_major": 2,
       "version_minor": 0
      },
      "text/plain": [
       "  0%|          | 0/42 [00:00<?, ?it/s]"
      ]
     },
     "metadata": {},
     "output_type": "display_data"
    },
    {
     "name": "stdout",
     "output_type": "stream",
     "text": [
      "Train BCE loss: 0.34225537521498545\n",
      "Valid BCE loss: 0.35200758775075275\n",
      "IoU:       0.49148370128952795 \n",
      "\n",
      "Accuracy:  0.8008098072475858\n",
      "Precision: 0.8206898185114065\n",
      "Recall:    0.5570403179244826 \n",
      "\n",
      "Epoch 46 | lr 0.000500094\n"
     ]
    },
    {
     "data": {
      "application/vnd.jupyter.widget-view+json": {
       "model_id": "fa5da30f80b44c728be96b22bafae62b",
       "version_major": 2,
       "version_minor": 0
      },
      "text/plain": [
       "  0%|          | 0/42 [00:00<?, ?it/s]"
      ]
     },
     "metadata": {},
     "output_type": "display_data"
    },
    {
     "name": "stdout",
     "output_type": "stream",
     "text": [
      "Train BCE loss: 0.3467114589044026\n",
      "Valid BCE loss: 0.35144715507825214\n",
      "IoU:       0.4918478183551795 \n",
      "\n",
      "Accuracy:  0.8193833563062879\n",
      "Precision: 0.7532851098415753\n",
      "Recall:    0.6032474844418951 \n",
      "\n",
      "Epoch 47 | lr 0.000500094\n"
     ]
    },
    {
     "data": {
      "application/vnd.jupyter.widget-view+json": {
       "model_id": "de3b025f3249482eae52168ab2dd304c",
       "version_major": 2,
       "version_minor": 0
      },
      "text/plain": [
       "  0%|          | 0/42 [00:00<?, ?it/s]"
      ]
     },
     "metadata": {},
     "output_type": "display_data"
    },
    {
     "name": "stdout",
     "output_type": "stream",
     "text": [
      "Train BCE loss: 0.3328181299425307\n",
      "Valid BCE loss: 0.3553094615538915\n",
      "IoU:       0.5012783829329742 \n",
      "\n",
      "Accuracy:  0.8095812797546387\n",
      "Precision: 0.7830916151611341\n",
      "Recall:    0.5914641083417762 \n",
      "\n",
      "Epoch 48 | lr 0.000500094\n"
     ]
    },
    {
     "data": {
      "application/vnd.jupyter.widget-view+json": {
       "model_id": "0b6980933d974e769db0361796d544c5",
       "version_major": 2,
       "version_minor": 0
      },
      "text/plain": [
       "  0%|          | 0/42 [00:00<?, ?it/s]"
      ]
     },
     "metadata": {},
     "output_type": "display_data"
    },
    {
     "name": "stdout",
     "output_type": "stream",
     "text": [
      "Train BCE loss: 0.34113559410685584\n",
      "Valid BCE loss: 0.34083398183186847\n",
      "IoU:       0.5090217269543145 \n",
      "\n",
      "Accuracy:  0.8388725916544596\n",
      "Precision: 0.7048855309064189\n",
      "Recall:    0.654795280767022 \n",
      "\n",
      "Epoch 49 | lr 0.000500094\n"
     ]
    },
    {
     "data": {
      "application/vnd.jupyter.widget-view+json": {
       "model_id": "fac323eea3dd4ab89acbb0a670ec9996",
       "version_major": 2,
       "version_minor": 0
      },
      "text/plain": [
       "  0%|          | 0/42 [00:00<?, ?it/s]"
      ]
     },
     "metadata": {},
     "output_type": "display_data"
    },
    {
     "name": "stdout",
     "output_type": "stream",
     "text": [
      "Train BCE loss: 0.3410296787818273\n",
      "Valid BCE loss: 0.35284458100795746\n",
      "IoU:       0.5069449378125783 \n",
      "\n",
      "Accuracy:  0.8559204207526313\n",
      "Precision: 0.6551879608693222\n",
      "Recall:    0.7136951996435347 \n",
      "\n",
      "Epoch 50 | lr 0.000500094\n"
     ]
    },
    {
     "data": {
      "application/vnd.jupyter.widget-view+json": {
       "model_id": "38588217e5cf447ba6c8231baba58910",
       "version_major": 2,
       "version_minor": 0
      },
      "text/plain": [
       "  0%|          | 0/42 [00:00<?, ?it/s]"
      ]
     },
     "metadata": {},
     "output_type": "display_data"
    },
    {
     "name": "stdout",
     "output_type": "stream",
     "text": [
      "Train BCE loss: 0.33672850117796943\n",
      "Valid BCE loss: 0.34100956718126935\n",
      "IoU:       0.5163621044096848 \n",
      "\n",
      "Accuracy:  0.8282398647732205\n",
      "Precision: 0.7729817663008968\n",
      "Recall:    0.6145298683607054 \n",
      "\n",
      "Epoch 51 | lr 0.000500094\n"
     ]
    },
    {
     "data": {
      "application/vnd.jupyter.widget-view+json": {
       "model_id": "0930244afb40493b84857dff11d7a802",
       "version_major": 2,
       "version_minor": 0
      },
      "text/plain": [
       "  0%|          | 0/42 [00:00<?, ?it/s]"
      ]
     },
     "metadata": {},
     "output_type": "display_data"
    },
    {
     "name": "stdout",
     "output_type": "stream",
     "text": [
      "Train BCE loss: 0.33764744372594924\n",
      "Valid BCE loss: 0.34184468785921734\n",
      "IoU:       0.488137175846431 \n",
      "\n",
      "Accuracy:  0.8526891072591146\n",
      "Precision: 0.6525284469696796\n",
      "Recall:    0.6886512441481575 \n",
      "\n",
      "Epoch 52 | lr 0.000500094\n"
     ]
    },
    {
     "data": {
      "application/vnd.jupyter.widget-view+json": {
       "model_id": "eaf81b9d7ab343a980a771702ba58a5d",
       "version_major": 2,
       "version_minor": 0
      },
      "text/plain": [
       "  0%|          | 0/42 [00:00<?, ?it/s]"
      ]
     },
     "metadata": {},
     "output_type": "display_data"
    },
    {
     "name": "stdout",
     "output_type": "stream",
     "text": [
      "Train BCE loss: 0.344394183584622\n",
      "Valid BCE loss: 0.3456725776195526\n",
      "IoU:       0.5164319469800426 \n",
      "\n",
      "Accuracy:  0.8359562026129829\n",
      "Precision: 0.7385368532915083\n",
      "Recall:    0.632770812966217 \n",
      "\n",
      "Epoch 53 | lr 0.000500094\n"
     ]
    },
    {
     "data": {
      "application/vnd.jupyter.widget-view+json": {
       "model_id": "ed92e7fa4f624563966fef808f848c9f",
       "version_major": 2,
       "version_minor": 0
      },
      "text/plain": [
       "  0%|          | 0/42 [00:00<?, ?it/s]"
      ]
     },
     "metadata": {},
     "output_type": "display_data"
    },
    {
     "name": "stdout",
     "output_type": "stream",
     "text": [
      "Train BCE loss: 0.33849017251105534\n",
      "Valid BCE loss: 0.3369908978541692\n",
      "IoU:       0.5004254857906038 \n",
      "\n",
      "Accuracy:  0.8356769349839953\n",
      "Precision: 0.7294827310575379\n",
      "Recall:    0.6380118928807781 \n",
      "\n",
      "Epoch 54 | lr 0.000500094\n"
     ]
    },
    {
     "data": {
      "application/vnd.jupyter.widget-view+json": {
       "model_id": "2aeccbbaedcf463a93c97e56a00c4704",
       "version_major": 2,
       "version_minor": 0
      },
      "text/plain": [
       "  0%|          | 0/42 [00:00<?, ?it/s]"
      ]
     },
     "metadata": {},
     "output_type": "display_data"
    },
    {
     "name": "stdout",
     "output_type": "stream",
     "text": [
      "Train BCE loss: 0.34202295754637035\n",
      "Valid BCE loss: 0.3464028040568034\n",
      "IoU:       0.5122874173749652 \n",
      "\n",
      "Accuracy:  0.8219495879279243\n",
      "Precision: 0.7761608517418305\n",
      "Recall:    0.6066987616055313 \n",
      "\n",
      "Epoch 55 | lr 0.000500094\n"
     ]
    },
    {
     "data": {
      "application/vnd.jupyter.widget-view+json": {
       "model_id": "69c89039b83c483ea010e09b7081a309",
       "version_major": 2,
       "version_minor": 0
      },
      "text/plain": [
       "  0%|          | 0/42 [00:00<?, ?it/s]"
      ]
     },
     "metadata": {},
     "output_type": "display_data"
    },
    {
     "name": "stdout",
     "output_type": "stream",
     "text": [
      "Train BCE loss: 0.33517366860594067\n",
      "Valid BCE loss: 0.34686251481374103\n",
      "IoU:       0.5163399490217367 \n",
      "\n",
      "Accuracy:  0.845644579993354\n",
      "Precision: 0.6877406841764847\n",
      "Recall:    0.6912151882844605 \n",
      "\n",
      "Epoch 56 | lr 0.000500094\n"
     ]
    },
    {
     "data": {
      "application/vnd.jupyter.widget-view+json": {
       "model_id": "754b822d82c848f1a449cb7ac9495528",
       "version_major": 2,
       "version_minor": 0
      },
      "text/plain": [
       "  0%|          | 0/42 [00:00<?, ?it/s]"
      ]
     },
     "metadata": {},
     "output_type": "display_data"
    },
    {
     "name": "stdout",
     "output_type": "stream",
     "text": [
      "Train BCE loss: 0.34272301764715285\n",
      "Valid BCE loss: 0.3792222738265991\n",
      "IoU:       0.5208987660913004 \n",
      "\n",
      "Accuracy:  0.8234193060133191\n",
      "Precision: 0.7245226667986976\n",
      "Recall:    0.6693915037457504 \n",
      "\n",
      "Epoch 57 | lr 0.000500094\n"
     ]
    },
    {
     "data": {
      "application/vnd.jupyter.widget-view+json": {
       "model_id": "1ba139b43b5e4a68aead995b5f7acbea",
       "version_major": 2,
       "version_minor": 0
      },
      "text/plain": [
       "  0%|          | 0/42 [00:00<?, ?it/s]"
      ]
     },
     "metadata": {},
     "output_type": "display_data"
    },
    {
     "name": "stdout",
     "output_type": "stream",
     "text": [
      "Train BCE loss: 0.33367623672598884\n",
      "Valid BCE loss: 0.3448273489872615\n",
      "IoU:       0.47784052675382954 \n",
      "\n",
      "Accuracy:  0.7943415641784668\n",
      "Precision: 0.8220940318165554\n",
      "Recall:    0.5424722693271683 \n",
      "\n",
      "Epoch 58 | lr 0.000500094\n"
     ]
    },
    {
     "data": {
      "application/vnd.jupyter.widget-view+json": {
       "model_id": "576a670410274b08b81469b65cf7461f",
       "version_major": 2,
       "version_minor": 0
      },
      "text/plain": [
       "  0%|          | 0/42 [00:00<?, ?it/s]"
      ]
     },
     "metadata": {},
     "output_type": "display_data"
    },
    {
     "name": "stdout",
     "output_type": "stream",
     "text": [
      "Train BCE loss: 0.3265148504149346\n",
      "Valid BCE loss: 0.3326830367247264\n",
      "IoU:       0.5116365110605127 \n",
      "\n",
      "Accuracy:  0.8603313763936361\n",
      "Precision: 0.6663229414779279\n",
      "Recall:    0.7146914454173033 \n",
      "\n",
      "Epoch 59 | lr 0.000500094\n"
     ]
    },
    {
     "data": {
      "application/vnd.jupyter.widget-view+json": {
       "model_id": "daa9e56703bd4a51a8b320889759e593",
       "version_major": 2,
       "version_minor": 0
      },
      "text/plain": [
       "  0%|          | 0/42 [00:00<?, ?it/s]"
      ]
     },
     "metadata": {},
     "output_type": "display_data"
    },
    {
     "name": "stdout",
     "output_type": "stream",
     "text": [
      "Train BCE loss: 0.32833429106644224\n",
      "Valid BCE loss: 0.3228843758503596\n",
      "IoU:       0.5368642531749275 \n",
      "\n",
      "Accuracy:  0.8548038800557455\n",
      "Precision: 0.7390847008468376\n",
      "Recall:    0.6776802192062199 \n",
      "\n",
      "Epoch 60 | lr 0.000500094\n"
     ]
    },
    {
     "data": {
      "application/vnd.jupyter.widget-view+json": {
       "model_id": "f1a8abb9e51e4e7397f6c332234569be",
       "version_major": 2,
       "version_minor": 0
      },
      "text/plain": [
       "  0%|          | 0/42 [00:00<?, ?it/s]"
      ]
     },
     "metadata": {},
     "output_type": "display_data"
    },
    {
     "name": "stdout",
     "output_type": "stream",
     "text": [
      "Train BCE loss: 0.32906327077320646\n",
      "Valid BCE loss: 0.3338697950045268\n",
      "IoU:       0.5099810585897002 \n",
      "\n",
      "Accuracy:  0.8119905789693197\n",
      "Precision: 0.8272028299462465\n",
      "Recall:    0.5786233066168731 \n",
      "\n",
      "Epoch 61 | lr 0.000500094\n"
     ]
    },
    {
     "data": {
      "application/vnd.jupyter.widget-view+json": {
       "model_id": "35a74fb0d02b48f09e1d6bf90b0ead3f",
       "version_major": 2,
       "version_minor": 0
      },
      "text/plain": [
       "  0%|          | 0/42 [00:00<?, ?it/s]"
      ]
     },
     "metadata": {},
     "output_type": "display_data"
    },
    {
     "name": "stdout",
     "output_type": "stream",
     "text": [
      "Train BCE loss: 0.3280711252064932\n",
      "Valid BCE loss: 0.324810450275739\n",
      "IoU:       0.4751967848278582 \n",
      "\n",
      "Accuracy:  0.813891781700982\n",
      "Precision: 0.8028809974590937\n",
      "Recall:    0.5394555306163136 \n",
      "\n",
      "Epoch 62 | lr 0.000500094\n"
     ]
    },
    {
     "data": {
      "application/vnd.jupyter.widget-view+json": {
       "model_id": "1ee209d9532a4384aa263a922732d41f",
       "version_major": 2,
       "version_minor": 0
      },
      "text/plain": [
       "  0%|          | 0/42 [00:00<?, ?it/s]"
      ]
     },
     "metadata": {},
     "output_type": "display_data"
    },
    {
     "name": "stdout",
     "output_type": "stream",
     "text": [
      "Train BCE loss: 0.32814831889811014\n",
      "Valid BCE loss: 0.3287235846122106\n",
      "IoU:       0.5440959767438471 \n",
      "\n",
      "Accuracy:  0.8552399211459689\n",
      "Precision: 0.709864588868287\n",
      "Recall:    0.7079733920308643 \n",
      "\n",
      "Epoch 63 | lr 0.000500094\n"
     ]
    },
    {
     "data": {
      "application/vnd.jupyter.widget-view+json": {
       "model_id": "ac538cc7752d4ffaba59093e4c473b49",
       "version_major": 2,
       "version_minor": 0
      },
      "text/plain": [
       "  0%|          | 0/42 [00:00<?, ?it/s]"
      ]
     },
     "metadata": {},
     "output_type": "display_data"
    },
    {
     "name": "stdout",
     "output_type": "stream",
     "text": [
      "Train BCE loss: 0.3294838961391222\n",
      "Valid BCE loss: 0.3677008847395579\n",
      "IoU:       0.47362437125088436 \n",
      "\n",
      "Accuracy:  0.7655221091376411\n",
      "Precision: 0.8820181977417735\n",
      "Recall:    0.5095783831507368 \n",
      "\n",
      "Epoch 64 | lr 0.00031505922\n"
     ]
    },
    {
     "data": {
      "application/vnd.jupyter.widget-view+json": {
       "model_id": "6d319cabe09b4a37aceea92fcac6b3e9",
       "version_major": 2,
       "version_minor": 0
      },
      "text/plain": [
       "  0%|          | 0/42 [00:00<?, ?it/s]"
      ]
     },
     "metadata": {},
     "output_type": "display_data"
    },
    {
     "name": "stdout",
     "output_type": "stream",
     "text": [
      "Train BCE loss: 0.3279873824545315\n",
      "Valid BCE loss: 0.32860228916009265\n",
      "IoU:       0.5192175263331996 \n",
      "\n",
      "Accuracy:  0.8262916670905219\n",
      "Precision: 0.7991396966907712\n",
      "Recall:    0.6014076786856867 \n",
      "\n"
     ]
    },
    {
     "data": {
      "text/html": [
       "Waiting for W&B process to finish... <strong style=\"color:green\">(success).</strong>"
      ],
      "text/plain": [
       "<IPython.core.display.HTML object>"
      ]
     },
     "metadata": {},
     "output_type": "display_data"
    },
    {
     "name": "stderr",
     "output_type": "stream",
     "text": [
      "wandb: WARNING Source type is set to 'repo' but some required information is missing from the environment. A job will not be created from this run. See https://docs.wandb.ai/guides/launch/create-job\n"
     ]
    },
    {
     "data": {
      "application/vnd.jupyter.widget-view+json": {
       "model_id": "009744f86b6b4374a0a7ca4b6d30731e",
       "version_major": 2,
       "version_minor": 0
      },
      "text/plain": [
       "VBox(children=(Label(value='0.008 MB of 0.008 MB uploaded (0.000 MB deduped)\\r'), FloatProgress(value=1.0, max…"
      ]
     },
     "metadata": {},
     "output_type": "display_data"
    },
    {
     "data": {
      "text/html": [
       " View run <strong style=\"color:#cdcd00\">Run2023-08-17 23:18:56.784578</strong> at: <a href='https://wandb.ai/kirpall/water-drop-detection/runs/a989aq0z' target=\"_blank\">https://wandb.ai/kirpall/water-drop-detection/runs/a989aq0z</a><br/>Synced 5 W&B file(s), 0 media file(s), 0 artifact file(s) and 0 other file(s)"
      ],
      "text/plain": [
       "<IPython.core.display.HTML object>"
      ]
     },
     "metadata": {},
     "output_type": "display_data"
    },
    {
     "data": {
      "text/html": [
       "Find logs at: <code>./wandb/run-20230817_231856-a989aq0z/logs</code>"
      ],
      "text/plain": [
       "<IPython.core.display.HTML object>"
      ]
     },
     "metadata": {},
     "output_type": "display_data"
    }
   ],
   "source": [
    "train(save_checkpoints=False)\n",
    "start_epoch = start_epoch + config[\"epochs\"]"
   ]
  },
  {
   "cell_type": "code",
   "execution_count": 151,
   "metadata": {},
   "outputs": [],
   "source": [
    "wandb.finish()"
   ]
  },
  {
   "cell_type": "code",
   "execution_count": 152,
   "metadata": {},
   "outputs": [
    {
     "name": "stdout",
     "output_type": "stream",
     "text": [
      "Train BCE loss: 0.3221676214819863\n",
      "Valid BCE loss: 0.3197641223669052\n",
      "IoU:       0.54697733419016 \n",
      "\n",
      "Accuracy:  0.8531561427646213\n",
      "Precision: 0.7371263432109522\n",
      "Recall:    0.6978859496443849 \n",
      "\n"
     ]
    }
   ],
   "source": [
    "print_checkpoint(best_checkpoint)"
   ]
  },
  {
   "cell_type": "code",
   "execution_count": 153,
   "metadata": {},
   "outputs": [
    {
     "name": "stdout",
     "output_type": "stream",
     "text": [
      "Progress saved to 'cg_checkpoints/UNetRGBDBCEt32v31e59.pt'\n"
     ]
    }
   ],
   "source": [
    "save_checkpoint(\n",
    "                best_checkpoint,\n",
    "                config[\"checkpoint_dir\"],\n",
    "                best_checkpoint[\"name\"]\n",
    "            )"
   ]
  },
  {
   "cell_type": "code",
   "execution_count": null,
   "metadata": {},
   "outputs": [],
   "source": [
    "model.load_state_dict(best_checkpoint[\"model_state_dict\"])\n",
    "start_epoch = best_checkpoint[\"epochs\"]\n",
    "config[\"epochs\"] = 10\n",
    "train(save_checkpoints=False)\n",
    "start_epoch = start_epoch + config[\"epochs\"]"
   ]
  },
  {
   "cell_type": "code",
   "execution_count": null,
   "metadata": {},
   "outputs": [],
   "source": [
    "print_checkpoint(best_checkpoint)"
   ]
  },
  {
   "cell_type": "code",
   "execution_count": null,
   "metadata": {},
   "outputs": [],
   "source": [
    "save_checkpoint(\n",
    "                best_checkpoint,\n",
    "                config[\"checkpoint_dir\"],\n",
    "                best_checkpoint[\"name\"]\n",
    "            )"
   ]
  },
  {
   "cell_type": "markdown",
   "metadata": {
    "collapsed": false,
    "jupyter": {
     "outputs_hidden": false
    },
    "pycharm": {
     "name": "#%% md\n"
    }
   },
   "source": [
    "# Estimation"
   ]
  },
  {
   "cell_type": "code",
   "execution_count": 45,
   "metadata": {
    "collapsed": false,
    "jupyter": {
     "outputs_hidden": false
    },
    "pycharm": {
     "name": "#%%\n"
    }
   },
   "outputs": [],
   "source": [
    "def predict(model, x, y, binary_map=True, binary_threshold=0.4):\n",
    "    image_np = x.detach().numpy()[0]\n",
    "    gt_np = y.detach().numpy()[0][0]\n",
    "\n",
    "    model.eval()\n",
    "    with torch.no_grad():\n",
    "        x = x.to(config['device'])\n",
    "        y = y.to(config['device'])\n",
    "\n",
    "        pred = torch.sigmoid(model(x))\n",
    "    model.train()\n",
    "    pred_np  = pred.cpu().detach().numpy()[0][0]\n",
    "    if binary_map:\n",
    "        pred_np = pred_np >= binary_threshold\n",
    "    return image_np, gt_np, pred_np"
   ]
  },
  {
   "cell_type": "code",
   "execution_count": 46,
   "metadata": {},
   "outputs": [],
   "source": [
    "def show_channels(x):\n",
    "    x = x.detach().numpy()\n",
    "    \n",
    "    from matplotlib import pyplot as plt\n",
    "    from PIL import Image\n",
    "    import numpy as np\n",
    "\n",
    "    fig, axs = plt.subplots(1, config[\"channels\"])\n",
    "    for ax, c in zip(axs, x):\n",
    "        ax.imshow(c, cmap='gray')\n",
    "    plt.show()"
   ]
  },
  {
   "cell_type": "code",
   "execution_count": 47,
   "metadata": {
    "collapsed": false,
    "jupyter": {
     "outputs_hidden": false
    },
    "pycharm": {
     "name": "#%%\n"
    }
   },
   "outputs": [],
   "source": [
    "def plot_prediction(x, y, binary_map=True, binary_threshold=0.42):\n",
    "    x = torch.stack([x])\n",
    "    y = torch.stack([y])\n",
    "    x, y, pred = predict(model, x, y, binary_map, binary_threshold)\n",
    "    print(\"IoU:      \", IoU([y], [pred]))\n",
    "    print(\"Accuracy: \", accuracy([y], [pred]))\n",
    "    print(\"Precision:\", precision([y], [pred]))\n",
    "    print(\"Recall:   \", recall([y], [pred]))\n",
    "    \n",
    "    from matplotlib import pyplot as plt\n",
    "    from PIL import Image\n",
    "    import numpy as np\n",
    "    \n",
    "    fig, axs = plt.subplots(1, 3, figsize=(17, 10))\n",
    "    img = np.transpose(x[:3], (1, 2, 0))\n",
    "    axs[0].imshow(img, cmap='gray')\n",
    "    axs[1].imshow(y, cmap='gray')\n",
    "    axs[2].imshow(pred, cmap='gray')"
   ]
  },
  {
   "cell_type": "code",
   "execution_count": 51,
   "metadata": {},
   "outputs": [
    {
     "name": "stdout",
     "output_type": "stream",
     "text": [
      "Index: 62\n"
     ]
    },
    {
     "data": {
      "image/png": "[encoded data removed]",
      "text/plain": [
       "<Figure size 640x480 with 4 Axes>"
      ]
     },
     "metadata": {},
     "output_type": "display_data"
    },
    {
     "name": "stdout",
     "output_type": "stream",
     "text": [
      "IoU:       0.4751773178577423\n",
      "Accuracy:  0.937896728515625\n",
      "Precision: 0.67826247215271\n",
      "Recall:    0.6134509738638255\n"
     ]
    },
    {
     "data": {
      "image/png": "[encoded data removed]",
      "text/plain": [
       "<Figure size 1700x1000 with 3 Axes>"
      ]
     },
     "metadata": {},
     "output_type": "display_data"
    }
   ],
   "source": [
    "# Get prediction for random image and crop\n",
    "from random import randint\n",
    "idx = randint(0, len(val_dataset)-1)\n",
    "print(\"Index:\", idx)\n",
    "x, y = val_dataset[idx]\n",
    "show_channels(x)\n",
    "plot_prediction(x, y, binary_map=True, binary_threshold=config[\"threshold\"])"
   ]
  },
  {
   "cell_type": "code",
   "execution_count": null,
   "metadata": {},
   "outputs": [],
   "source": [
    "# Get prediction from opened image\n",
    "image_path = \"../../data/derain/ALIGNED_PAIRS/CG_DROPLETS/left_1535201264389466.png\"\n",
    "mask_path = \"../../data/derain/ALIGNED_PAIRS/CG_MASKS/left_1535201264389466.png\"\n",
    "from PIL import Image, ImageFilter\n",
    "image = Image.open(image_path)\n",
    "mask  = Image.open(mask_path)\n",
    "x, y = dataset.transform(image, mask)\n",
    "plot_prediction(x, y, binary_map=False)"
   ]
  },
  {
   "cell_type": "code",
   "execution_count": null,
   "metadata": {},
   "outputs": [],
   "source": [
    "# Clear checkpoints by condition\n",
    "#clear_checkpoints(config[\"checkpoint_dir\"], condition=lambda ch: ch[\"train_loss\"] >= 0.37, save_last=1)"
   ]
  },
  {
   "cell_type": "code",
   "execution_count": 12,
   "metadata": {},
   "outputs": [
    {
     "name": "stdout",
     "output_type": "stream",
     "text": [
      "total 11644056\n",
      "drwxrwsr-x 2 kondrashov students      4096 Aug 16 20:03 .\n",
      "drwxrwsr-x 8 kondrashov students      4096 Aug 17 17:09 ..\n",
      "-rw-rw-r-- 1 kondrashov students       627 Aug 15 13:33 nullcheck\n",
      "-rw-rw-r-- 1 kondrashov students 372617517 Aug  9 16:50 UNetAdamBCEt113v71e0.pt\n",
      "-rw-rw-r-- 1 kondrashov students 372610293 Aug  9 14:51 UNetAdamBCEt55v57e0.pt\n",
      "-rw-rw-r-- 1 kondrashov students 372617205 Aug  9 16:52 UNetAdamBCEt57v55e2.pt\n",
      "-rw-rw-r-- 1 kondrashov students 372617205 Aug  9 16:51 UNetAdamBCEt60v56e1.pt\n",
      "-rw-rw-r-- 1 kondrashov students 372610293 Aug  9 14:51 UNetAdamBCEt68v67e2.pt\n",
      "-rw-rw-r-- 1 kondrashov students 372610293 Aug  9 14:51 UNetAdamBCEt68v68e1.pt\n",
      "-rw-rw-r-- 1 kondrashov students 372610293 Aug  9 14:51 UNetAdamBCEt77v60e0.pt\n",
      "-rw-rw-r-- 1 kondrashov students 372610293 Aug  9 14:51 UNetAdamBCEt82v68e0.pt\n",
      "-rw-rw-r-- 1 kondrashov students 372610293 Aug  9 14:51 UNetAdamBCEt94v68e0.pt\n",
      "-rw-rw-r-- 1 kondrashov students 372597045 Aug 15 18:05 UNetHSVBCEt14v14e33.pt\n",
      "-rw-rw-r-- 1 kondrashov students 372597045 Aug 15 16:48 UNetHSVBCEt16v15e14.pt\n",
      "-rw-rw-r-- 1 kondrashov students 372597045 Aug 15 17:12 UNetHSVBCEt16v15e15.pt\n",
      "-rw-rw-r-- 1 kondrashov students 372597045 Aug 15 16:05 UNetRGBBCEt12v12e38.pt\n",
      "-rw-rw-r-- 1 kondrashov students 372597045 Aug 15 15:26 UNetRGBBCEt13v12e23.pt\n",
      "-rw-rw-r-- 1 kondrashov students 372597045 Aug 15 15:48 UNetRGBBCEt13v12e29.pt\n",
      "-rw-rw-r-- 1 kondrashov students 372597045 Aug 15 12:22 UNetRGBBCEt13v14e14.pt\n",
      "-rw-rw-r-- 1 kondrashov students 372596733 Aug 15 14:59 UNetRGBBCEt16v16e9.pt\n",
      "-rw-rw-r-- 1 kondrashov students 372604269 Aug 16 16:04 UNetRGBDBCEt13v12e35.pt\n",
      "-rw-rw-r-- 1 kondrashov students 372604269 Aug 16 14:37 UNetRGBDBCEt13v13e27.pt\n",
      "-rw-rw-r-- 1 kondrashov students 372604269 Aug 15 19:43 UNetRGBDBCEt13v13e34.pt\n",
      "-rw-rw-r-- 1 kondrashov students 372604269 Aug 16 15:18 UNetRGBDBCEt13v13e38.pt\n",
      "-rw-rw-r-- 1 kondrashov students 372604269 Aug 15 20:31 UNetRGBDBCEt13v13e41.pt\n",
      "-rw-rw-r-- 1 kondrashov students 372604269 Aug 16 14:17 UNetRGBDBCEt14v13e22.pt\n",
      "-rw-rw-r-- 1 kondrashov students 372604269 Aug 15 19:19 UNetRGBDBCEt14v14e22.pt\n",
      "-rw-rw-r-- 1 kondrashov students 372604269 Aug 16 13:56 UNetRGBDBCEt15v14e14.pt\n",
      "-rw-rw-r-- 1 kondrashov students 372604269 Aug 15 18:55 UNetRGBDBCEt16v15e12.pt\n",
      "-rw-rw-r-- 1 kondrashov students 372604269 Aug 16 17:34 UNetRGBDBCEt17v17e24.pt\n",
      "-rw-rw-r-- 1 kondrashov students 372604269 Aug 16 17:12 UNetRGBDBCEt20v20e12.pt\n",
      "-rw-rw-r-- 1 kondrashov students 372604269 Aug 16 20:03 UNetRGBSBCEt15v14e41.pt\n",
      "-rw-rw-r-- 1 kondrashov students 372604269 Aug 16 18:59 UNetRGBSBCEt16v16e24.pt\n",
      "-rw-rw-r-- 1 kondrashov students 372604269 Aug 16 19:20 UNetRGBSBCEt16v18e26.pt\n",
      "-rw-rw-r-- 1 kondrashov students 372604269 Aug 16 18:38 UNetRGBSBCEt18v19e13.pt\n"
     ]
    }
   ],
   "source": [
    "!ls -la cg_checkpoints"
   ]
  },
  {
   "cell_type": "code",
   "execution_count": null,
   "metadata": {},
   "outputs": [],
   "source": [
    "!ls final_models"
   ]
  },
  {
   "cell_type": "code",
   "execution_count": null,
   "metadata": {},
   "outputs": [],
   "source": [
    "!cp checkpoints/UNetRGBSBCEt31v31e56.pt final_models"
   ]
  },
  {
   "cell_type": "code",
   "execution_count": null,
   "metadata": {},
   "outputs": [],
   "source": [
    "def modify_dataset():\n",
    "    # Modify images to make them smoother\n",
    "    save_dir = '../../data/derain/ALIGNED_PAIRS/CG_DROPLETS_M7'\n",
    "    Path(save_dir).mkdir(parents=True, exist_ok=True)\n",
    "    step = 1\n",
    "    for path in Path(config[\"image_dir\"]).glob('*.png'):\n",
    "        image = Image.open(path)\n",
    "        image = image.filter(ImageFilter.MedianFilter(size = 5))\n",
    "        new_path = Path(save_dir, path.name)\n",
    "        image.save(new_path)\n",
    "        print(\"Saved\", new_path, step)\n",
    "        step = step + 1"
   ]
  },
  {
   "cell_type": "code",
   "execution_count": 34,
   "metadata": {},
   "outputs": [],
   "source": [
    "# Remove odd images\n",
    "from pathlib import Path\n",
    "def find_odd_files(dir1, dir2):\n",
    "    for path in Path(dir1).glob('*.png'):\n",
    "        name = path.name\n",
    "        other_path = Path(dir2 + '/' + name)\n",
    "        if not other_path.exists():\n",
    "            print(other_path, \"doesn't exist\")\n",
    "            print(\"Removed\", path)\n",
    "            path.unlink()"
   ]
  },
  {
   "cell_type": "code",
   "execution_count": 35,
   "metadata": {},
   "outputs": [],
   "source": [
    "find_odd_files(\n",
    "    dir1='../../data/stereo/train/image',\n",
    "    dir2='../../data/stereo/train/mask'\n",
    ")\n",
    "find_odd_files(\n",
    "    dir1='../../data/stereo/train/mask',\n",
    "    dir2='../../data/stereo/train/image'\n",
    ")"
   ]
  },
  {
   "cell_type": "code",
   "execution_count": null,
   "metadata": {},
   "outputs": [],
   "source": []
  }
 ],
 "metadata": {
  "kernelspec": {
   "display_name": "Python 3 (ipykernel)",
   "language": "python",
   "name": "python3"
  },
  "language_info": {
   "codemirror_mode": {
    "name": "ipython",
    "version": 3
   },
   "file_extension": ".py",
   "mimetype": "text/x-python",
   "name": "python",
   "nbconvert_exporter": "python",
   "pygments_lexer": "ipython3",
   "version": "3.10.12"
  }
 },
 "nbformat": 4,
 "nbformat_minor": 4
}
