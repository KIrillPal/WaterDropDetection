{
 "cells": [
  {
   "cell_type": "code",
   "execution_count": 1,
   "outputs": [],
   "source": [
    "import numpy as np\n",
    "from pathlib import Path\n",
    "from PIL import Image\n",
    "from matplotlib import pyplot as plt"
   ],
   "metadata": {
    "collapsed": false,
    "pycharm": {
     "name": "#%%\n"
    }
   }
  },
  {
   "cell_type": "code",
   "execution_count": 75,
   "outputs": [],
   "source": [
    "threshold = 80"
   ],
   "metadata": {
    "collapsed": false,
    "pycharm": {
     "name": "#%%\n"
    }
   }
  },
  {
   "cell_type": "markdown",
   "source": [
    "# Load data"
   ],
   "metadata": {
    "collapsed": false,
    "pycharm": {
     "name": "#%% md\n"
    }
   }
  },
  {
   "cell_type": "code",
   "execution_count": 76,
   "outputs": [],
   "source": [
    "def load_stereo(dataset_dir='../data/stereo/train'):\n",
    "    img_pairs = []\n",
    "\n",
    "    for path in Path(dataset_dir + '/images').glob('*.png'):\n",
    "        # check if not clear\n",
    "        if path.name[-9:-6] != '000':\n",
    "            image = np.array(Image.open(path).convert('L'))\n",
    "            mask  = np.array(Image.open(dataset_dir + '/mask/' + path.name).convert('L'))\n",
    "            img_pairs.append([image, mask])\n",
    "    return img_pairs"
   ],
   "metadata": {
    "collapsed": false,
    "pycharm": {
     "name": "#%%\n"
    }
   }
  },
  {
   "cell_type": "code",
   "execution_count": 77,
   "outputs": [],
   "source": [
    "stereo = load_stereo()[:100]"
   ],
   "metadata": {
    "collapsed": false,
    "pycharm": {
     "name": "#%%\n"
    }
   }
  },
  {
   "cell_type": "markdown",
   "source": [
    "# Get patches"
   ],
   "metadata": {
    "collapsed": false,
    "pycharm": {
     "name": "#%% md\n"
    }
   }
  },
  {
   "cell_type": "code",
   "execution_count": 78,
   "outputs": [],
   "source": [
    "def get_patches(image, n, m):\n",
    "    '''\n",
    "        divide given 2d-nparray into n x m patches\n",
    "        image - 2d-nparray (row, col)\n",
    "        Returns: list of 2d-nparrays (patch, row, col)\n",
    "    '''\n",
    "    h, w = image.shape\n",
    "    patch_h = (h + n-1) // n\n",
    "    patch_w = (w + m-1) // m\n",
    "    patches = []\n",
    "\n",
    "    for i in np.arange(0, h, step=patch_h):\n",
    "        for j in np.arange(0, w, step=patch_w):\n",
    "            patches.append(image[i:i+patch_h, j:j+patch_w])\n",
    "    return patches"
   ],
   "metadata": {
    "collapsed": false,
    "pycharm": {
     "name": "#%%\n"
    }
   }
  },
  {
   "cell_type": "code",
   "execution_count": 79,
   "outputs": [],
   "source": [
    "def dataset_to_patched(dataset, form=(7, 13), threshold=0.5):\n",
    "    features = []\n",
    "    targets = []\n",
    "    for [X, Y] in dataset:\n",
    "        img_features = get_patches(X, form[0], form[1])\n",
    "        img_targets = [(np.mean(x) >= threshold) for x in get_patches(Y, form[0], form[1])]\n",
    "        features += img_features\n",
    "        targets += img_targets\n",
    "    return [features, targets]"
   ],
   "metadata": {
    "collapsed": false,
    "pycharm": {
     "name": "#%%\n"
    }
   }
  },
  {
   "cell_type": "code",
   "execution_count": 80,
   "outputs": [],
   "source": [
    "patched = dataset_to_patched(stereo, threshold=threshold)"
   ],
   "metadata": {
    "collapsed": false,
    "pycharm": {
     "name": "#%%\n"
    }
   }
  },
  {
   "cell_type": "markdown",
   "source": [
    "## Kurtosis measure"
   ],
   "metadata": {
    "collapsed": false,
    "pycharm": {
     "name": "#%% md\n"
    }
   }
  },
  {
   "cell_type": "code",
   "execution_count": 8,
   "outputs": [],
   "source": [
    "import scipy"
   ],
   "metadata": {
    "collapsed": false,
    "pycharm": {
     "name": "#%%\n"
    }
   }
  },
  {
   "cell_type": "code",
   "execution_count": 9,
   "outputs": [],
   "source": [
    "def patched_kurtosis(image, form=(4,5)):\n",
    "    patches = get_patches(image, form[0], form[1])\n",
    "    one_dim_patches = [p.reshape(-1) for p in patches]\n",
    "    return [scipy.stats.kurtosis(p) for p in one_dim_patches]"
   ],
   "metadata": {
    "collapsed": false,
    "pycharm": {
     "name": "#%%\n"
    }
   }
  },
  {
   "cell_type": "code",
   "execution_count": 10,
   "outputs": [],
   "source": [
    "# Visualize patches with some measure\n",
    "def visualize_patches(image, measure, n=4, m=5):\n",
    "    patches = get_patches(image, n, m)\n",
    "    fig, axs = plt.subplots(n, m, figsize=(18, 10))\n",
    "    plt.gray()\n",
    "    for i in range(len(patches)):\n",
    "        axs[i // m, i % m].imshow(Image.fromarray(patches[i]))\n",
    "        axs[i // m, i % m].axis('off')\n",
    "        axs[i // m, i % m].set_title(str(measure(patches[i])))"
   ],
   "metadata": {
    "collapsed": false,
    "pycharm": {
     "name": "#%%\n"
    }
   }
  },
  {
   "cell_type": "code",
   "execution_count": 11,
   "outputs": [],
   "source": [
    "def get_kurtosis(image):\n",
    "    patched = np.asarray(patched_kurtosis(image, form=(2, 2)))\n",
    "    return np.nansum(patched ** 2)"
   ],
   "metadata": {
    "collapsed": false,
    "pycharm": {
     "name": "#%%\n"
    }
   }
  },
  {
   "cell_type": "markdown",
   "source": [
    "## DWT Shapness coeff"
   ],
   "metadata": {
    "collapsed": false,
    "pycharm": {
     "name": "#%% md\n"
    }
   }
  },
  {
   "cell_type": "code",
   "execution_count": 12,
   "outputs": [],
   "source": [
    "import pywt\n",
    "import math"
   ],
   "metadata": {
    "collapsed": false,
    "pycharm": {
     "name": "#%%\n"
    }
   }
  },
  {
   "cell_type": "code",
   "execution_count": 13,
   "outputs": [],
   "source": [
    "def subband_log_energy(subband, eps=1):\n",
    "    coeffs = np.asarray(subband)\n",
    "    return math.log10(eps + np.sum(coeffs ** 2)/len(coeffs))"
   ],
   "metadata": {
    "collapsed": false,
    "pycharm": {
     "name": "#%%\n"
    }
   }
  },
  {
   "cell_type": "code",
   "execution_count": 14,
   "outputs": [],
   "source": [
    "def log_energy(dwt, alpha=0.7, eps=1):\n",
    "    energy = [subband_log_energy(subband, eps) for subband in dwt]\n",
    "    # energy[x] x: 0 - LL, 1 - LH, 2 - HL, 3 - HH\n",
    "    return (1 - alpha) * (energy[1] + energy[2]) / 2 + alpha * energy[3]"
   ],
   "metadata": {
    "collapsed": false,
    "pycharm": {
     "name": "#%%\n"
    }
   }
  },
  {
   "cell_type": "code",
   "execution_count": 15,
   "outputs": [],
   "source": [
    "def dwt_sharpcoeff(image, alpha=0.8):\n",
    "    # Number of levels of dwt\n",
    "    nlevels  = 6\n",
    "    dwt = [image]\n",
    "\n",
    "    # Energy for each level\n",
    "    energy = []\n",
    "\n",
    "    # Count log energy\n",
    "    for p in range(nlevels):\n",
    "        cA, (cH, cV, cD) = pywt.dwt2(dwt[0], 'haar')\n",
    "        dwt = [cA, cH, cV, cD]\n",
    "        energy.append(log_energy(dwt, alpha))\n",
    "\n",
    "    # Count sharpness coeff\n",
    "    coeff = np.nansum([2**(nlevels - p) * energy[p] for p in range(nlevels)])\n",
    "    return coeff"
   ],
   "metadata": {
    "collapsed": false,
    "pycharm": {
     "name": "#%%\n"
    }
   }
  },
  {
   "cell_type": "code",
   "execution_count": 16,
   "outputs": [],
   "source": [
    "def patched_dwt_sharpcoeff(image, form=(4, 5)):\n",
    "    patches = get_patches(image, form[0], form[1])\n",
    "    coeffs = [dwt_sharpcoeff(p) for p in patches]\n",
    "    return coeffs"
   ],
   "metadata": {
    "collapsed": false,
    "pycharm": {
     "name": "#%%\n"
    }
   }
  },
  {
   "cell_type": "markdown",
   "source": [
    "## SVD measure"
   ],
   "metadata": {
    "collapsed": false,
    "pycharm": {
     "name": "#%% md\n"
    }
   }
  },
  {
   "cell_type": "code",
   "execution_count": 17,
   "outputs": [],
   "source": [
    "def svd_coeff(image, d=5):\n",
    "    '''\n",
    "    Computes coefficient nu\n",
    "    d - a number of first singular values used in nu\n",
    "    '''\n",
    "    U, S, VT = scipy.linalg.svd(image)\n",
    "    if (np.nansum(S) == 0):\n",
    "        return 0\n",
    "    else:\n",
    "        nu = np.nansum(S[:d]) / np.nansum(S)\n",
    "    return nu"
   ],
   "metadata": {
    "collapsed": false,
    "pycharm": {
     "name": "#%%\n"
    }
   }
  },
  {
   "cell_type": "code",
   "execution_count": 18,
   "outputs": [],
   "source": [
    "def patched_svd_coeff(image, d=1, form=(5, 8)):\n",
    "    patches = get_patches(image, form[0], form[1])\n",
    "    coeffs = [svd_coeff(p, d) for p in patches]\n",
    "\n",
    "    return np.sum(np.array(coeffs) ** 2)"
   ],
   "metadata": {
    "collapsed": false,
    "pycharm": {
     "name": "#%%\n"
    }
   }
  },
  {
   "cell_type": "markdown",
   "source": [
    "## Features"
   ],
   "metadata": {
    "collapsed": false,
    "pycharm": {
     "name": "#%% md\n"
    }
   }
  },
  {
   "cell_type": "code",
   "execution_count": 19,
   "outputs": [
    {
     "name": "stderr",
     "output_type": "stream",
     "text": [
      "C:\\Users\\KIR\\AppData\\Local\\Temp\\ipykernel_11628\\3415617259.py:4: RuntimeWarning: Precision loss occurred in moment calculation due to catastrophic cancellation. This occurs when the data are nearly identical. Results may be unreliable.\n",
      "  return [scipy.stats.kurtosis(p) for p in one_dim_patches]\n"
     ]
    }
   ],
   "source": [
    "# Get features for all images\n",
    "kurtosis = [get_kurtosis(img) for img in patched[0]]"
   ],
   "metadata": {
    "collapsed": false,
    "pycharm": {
     "name": "#%%\n"
    }
   }
  },
  {
   "cell_type": "code",
   "execution_count": 81,
   "outputs": [],
   "source": [
    "dwt = [dwt_sharpcoeff(img) for img in patched[0]]"
   ],
   "metadata": {
    "collapsed": false,
    "pycharm": {
     "name": "#%%\n"
    }
   }
  },
  {
   "cell_type": "code",
   "execution_count": 82,
   "outputs": [],
   "source": [
    "svd = [patched_svd_coeff(img) for img in patched[0]]"
   ],
   "metadata": {
    "collapsed": false,
    "pycharm": {
     "name": "#%%\n"
    }
   }
  },
  {
   "cell_type": "markdown",
   "source": [
    "## Prepare data"
   ],
   "metadata": {
    "collapsed": false,
    "pycharm": {
     "name": "#%% md\n"
    }
   }
  },
  {
   "cell_type": "code",
   "execution_count": 83,
   "outputs": [],
   "source": [
    "X = np.array([dwt, svd]).T\n",
    "y = np.array(patched[1], dtype=int)"
   ],
   "metadata": {
    "collapsed": false,
    "pycharm": {
     "name": "#%%\n"
    }
   }
  },
  {
   "cell_type": "code",
   "execution_count": 84,
   "outputs": [],
   "source": [
    "# Normalize X\n",
    "X = (X - X.min(0)) / X.ptp(0)"
   ],
   "metadata": {
    "collapsed": false,
    "pycharm": {
     "name": "#%%\n"
    }
   }
  },
  {
   "cell_type": "code",
   "execution_count": 85,
   "outputs": [],
   "source": [
    "part = int(len(X) * 0.9)\n",
    "X_train, X_test, y_train, y_test = X[:part], X[part:], y[:part], y[part:]"
   ],
   "metadata": {
    "collapsed": false,
    "pycharm": {
     "name": "#%%\n"
    }
   }
  },
  {
   "cell_type": "code",
   "execution_count": 86,
   "outputs": [
    {
     "name": "stdout",
     "output_type": "stream",
     "text": [
      "[[0.40371855 0.85585359]\n",
      " [0.50824584 0.81184712]\n",
      " [0.56418307 0.82442514]\n",
      " [0.60815284 0.87889758]\n",
      " [0.3677344  0.88716255]]\n",
      "[0 0 0 0 0]\n",
      "[[0.24317183 0.87231235]\n",
      " [0.28647008 0.87760431]\n",
      " [0.36460615 0.90418874]\n",
      " [0.51778822 0.80649657]\n",
      " [0.36313042 0.89051958]]\n",
      "[0 0 0 0 0]\n"
     ]
    }
   ],
   "source": [
    "# Show partition\n",
    "head=5\n",
    "print(X_train[:head])\n",
    "print(y_train[:head])\n",
    "print(X_test[:head])\n",
    "print(y_test[:head])"
   ],
   "metadata": {
    "collapsed": false,
    "pycharm": {
     "name": "#%%\n"
    }
   }
  },
  {
   "cell_type": "code",
   "execution_count": 87,
   "outputs": [
    {
     "name": "stdout",
     "output_type": "stream",
     "text": [
      "Accuracy: 0.8461538461538461\n"
     ]
    }
   ],
   "source": [
    "from sklearn.ensemble import RandomForestClassifier\n",
    "\n",
    "rfc = RandomForestClassifier(\n",
    "    n_estimators=110,\n",
    "    criterion='gini',\n",
    "    max_depth=30,\n",
    "    random_state=50\n",
    ")\n",
    "rfc.fit(X_train, y_train)\n",
    "y_pred = rfc.predict(X_test)\n",
    "print(\"Accuracy:\", sum(1 - abs(y_pred - y_test)) / len(y_pred))"
   ],
   "metadata": {
    "collapsed": false,
    "pycharm": {
     "name": "#%%\n"
    }
   }
  },
  {
   "cell_type": "code",
   "execution_count": 74,
   "outputs": [
    {
     "name": "stdout",
     "output_type": "stream",
     "text": [
      "0\n"
     ]
    }
   ],
   "source": [
    "print(y_pred[3])"
   ],
   "metadata": {
    "collapsed": false,
    "pycharm": {
     "name": "#%%\n"
    }
   }
  },
  {
   "cell_type": "code",
   "execution_count": 90,
   "outputs": [],
   "source": [
    "image = np.array(Image.open('../data/stereo/train/images/007_007_0.png').convert('L'))"
   ],
   "metadata": {
    "collapsed": false,
    "pycharm": {
     "name": "#%%\n"
    }
   }
  },
  {
   "cell_type": "code",
   "execution_count": 96,
   "outputs": [],
   "source": [
    "mask = np.array(Image.open('../data/stereo/train/mask/007_007_0.png').convert('L'))"
   ],
   "metadata": {
    "collapsed": false,
    "pycharm": {
     "name": "#%%\n"
    }
   }
  },
  {
   "cell_type": "code",
   "execution_count": 99,
   "outputs": [
    {
     "data": {
      "text/plain": "<matplotlib.image.AxesImage at 0x24e3bb49eb0>"
     },
     "execution_count": 99,
     "metadata": {},
     "output_type": "execute_result"
    },
    {
     "data": {
      "text/plain": "<Figure size 640x480 with 1 Axes>",
      "image/png": "[encoded data removed]"
     },
     "metadata": {},
     "output_type": "display_data"
    }
   ],
   "source": [
    "map = np.zeros(image.shape)\n",
    "n = 7\n",
    "m = 13\n",
    "patches, mask_patches = get_patches(image, 7, 13), get_patches(mask, 7, 13)\n",
    "for i in range(len(patches)):\n",
    "    dwt = dwt_sharpcoeff(patches[i])\n",
    "    svd = patched_svd_coeff(patches[i])\n",
    "    y_pred = rfc.predict([[dwt, svd]])\n",
    "    y_truth = int(np.mean(mask_patches[i]) >= 60)\n",
    "    x_min = image.shape[0] // n * (i // m)\n",
    "    y_min = image.shape[1] // m * (i % m)\n",
    "    x_max = image.shape[0] // n * (i // m + 1)\n",
    "    y_max = image.shape[1] // m * (i % m + 1)\n",
    "    if (y_truth == 1):\n",
    "        map[x_min:x_max, y_min:y_max].fill(255)\n",
    "plt.imshow\n",
    "plt.imshow(map)"
   ],
   "metadata": {
    "collapsed": false,
    "pycharm": {
     "name": "#%%\n"
    }
   }
  },
  {
   "cell_type": "code",
   "execution_count": null,
   "outputs": [],
   "source": [],
   "metadata": {
    "collapsed": false,
    "pycharm": {
     "name": "#%%\n"
    }
   }
  }
 ],
 "metadata": {
  "kernelspec": {
   "display_name": "Python 3",
   "language": "python",
   "name": "python3"
  },
  "language_info": {
   "codemirror_mode": {
    "name": "ipython",
    "version": 2
   },
   "file_extension": ".py",
   "mimetype": "text/x-python",
   "name": "python",
   "nbconvert_exporter": "python",
   "pygments_lexer": "ipython2",
   "version": "2.7.6"
  }
 },
 "nbformat": 4,
 "nbformat_minor": 0
}