{
 "cells": [
  {
   "cell_type": "markdown",
   "source": [
    "# Pixel-wise distance"
   ],
   "metadata": {
    "collapsed": false,
    "pycharm": {
     "name": "#%% md\n"
    }
   }
  },
  {
   "cell_type": "markdown",
   "source": [
    "Everything in grayscale"
   ],
   "metadata": {
    "collapsed": false,
    "pycharm": {
     "name": "#%% md\n"
    }
   }
  },
  {
   "cell_type": "code",
   "execution_count": 918,
   "metadata": {
    "pycharm": {
     "name": "#%%\n"
    }
   },
   "outputs": [],
   "source": [
    "import numpy as np"
   ]
  },
  {
   "cell_type": "code",
   "execution_count": 919,
   "metadata": {
    "pycharm": {
     "name": "#%%\n"
    }
   },
   "outputs": [],
   "source": [
    "def distance(p1, p2, coeff = 3):\n",
    "    diff = (p1 - p2) ** 2\n",
    "    return np.minimum(diff * coeff, np.ones(p1.shape) * 255)"
   ]
  },
  {
   "cell_type": "markdown",
   "source": [
    "# Denoising"
   ],
   "metadata": {
    "collapsed": false,
    "pycharm": {
     "name": "#%% md\n"
    }
   }
  },
  {
   "cell_type": "code",
   "execution_count": 920,
   "outputs": [],
   "source": [
    "from scipy import signal\n",
    "def little_blur(img):\n",
    "    kernel = np.ones((3, 3)) / 9.\n",
    "    return signal.convolve2d(img, kernel)"
   ],
   "metadata": {
    "collapsed": false,
    "pycharm": {
     "name": "#%%\n"
    }
   }
  },
  {
   "cell_type": "code",
   "execution_count": 921,
   "outputs": [],
   "source": [
    "from scipy import ndimage\n",
    "def median(img, size=5):\n",
    "    return ndimage.median_filter(img, size)"
   ],
   "metadata": {
    "collapsed": false,
    "pycharm": {
     "name": "#%%\n"
    }
   }
  },
  {
   "cell_type": "markdown",
   "source": [
    "# Estimation"
   ],
   "metadata": {
    "collapsed": false,
    "pycharm": {
     "name": "#%% md\n"
    }
   }
  },
  {
   "cell_type": "code",
   "execution_count": 922,
   "outputs": [],
   "source": [
    "from PIL import Image"
   ],
   "metadata": {
    "collapsed": false,
    "pycharm": {
     "name": "#%%\n"
    }
   }
  },
  {
   "cell_type": "code",
   "execution_count": 923,
   "metadata": {
    "pycharm": {
     "name": "#%%\n"
    }
   },
   "outputs": [],
   "source": [
    "clear_path = '../data/test/000/000_0.png'\n",
    "dirty_path = '../data/test/000/005_0.png'\n",
    "mask_path  = '../data/test/mask/000/005_0.png'\n",
    "mask_opacity = 80\n",
    "\n",
    "# load images\n",
    "clear = Image.open(clear_path)\n",
    "dirty = Image.open(dirty_path)\n",
    "# prepare them\n",
    "clear = np.asarray(clear.convert('L'))\n",
    "dirty = np.asarray(dirty.convert('L'))\n",
    "# Little blur to denoise\n",
    "clear = little_blur(clear)\n",
    "dirty = little_blur(dirty)"
   ]
  },
  {
   "cell_type": "code",
   "execution_count": 924,
   "outputs": [],
   "source": [
    "diff = distance(clear, dirty)"
   ],
   "metadata": {
    "collapsed": false,
    "pycharm": {
     "name": "#%%\n"
    }
   }
  },
  {
   "cell_type": "raw",
   "source": [
    "# Dark channel correction (for RGB)\n",
    "diff = np.min(diff, axis=2)"
   ],
   "metadata": {
    "collapsed": false,
    "pycharm": {
     "name": "#%% raw\n"
    }
   }
  },
  {
   "cell_type": "code",
   "execution_count": 925,
   "outputs": [],
   "source": [
    "# Post filtration\n",
    "diff = median(diff)\n",
    "diff = diff[1:-1, 1:-1]"
   ],
   "metadata": {
    "collapsed": false,
    "pycharm": {
     "name": "#%%\n"
    }
   }
  },
  {
   "cell_type": "code",
   "execution_count": 926,
   "outputs": [],
   "source": [
    "# Select partition\n",
    "mask = np.where(diff > 180, mask_opacity, 0)"
   ],
   "metadata": {
    "collapsed": false,
    "pycharm": {
     "name": "#%%\n"
    }
   }
  },
  {
   "cell_type": "markdown",
   "source": [
    "# Hull correction"
   ],
   "metadata": {
    "collapsed": false,
    "pycharm": {
     "name": "#%% md\n"
    }
   }
  },
  {
   "cell_type": "code",
   "execution_count": 927,
   "outputs": [],
   "source": [
    "from queue import Queue\n",
    "def find_component(matrix, start, used):\n",
    "    h, w = matrix.shape\n",
    "    result = []\n",
    "    v = matrix[start]\n",
    "\n",
    "    queue = Queue()\n",
    "    queue.put(start)\n",
    "    used[start] = True\n",
    "\n",
    "    while not queue.empty():\n",
    "        x, y = queue.get()\n",
    "        result.append((x, y))\n",
    "        for dx in range(max(x-1, 0), min(x+2, h)):\n",
    "            for dy in range(max(y-1, 0), min(y+2, w)):\n",
    "                if matrix[dx, dy] == v and not used[dx, dy]:\n",
    "                    queue.put((dx, dy))\n",
    "                    used[dx, dy] = True\n",
    "    return result"
   ],
   "metadata": {
    "collapsed": false,
    "pycharm": {
     "name": "#%%\n"
    }
   }
  },
  {
   "cell_type": "code",
   "execution_count": 928,
   "outputs": [],
   "source": [
    "from scipy.spatial import ConvexHull\n",
    "from scipy.spatial import QhullError"
   ],
   "metadata": {
    "collapsed": false,
    "pycharm": {
     "name": "#%%\n"
    }
   }
  },
  {
   "cell_type": "code",
   "execution_count": 929,
   "outputs": [],
   "source": [
    "from scipy.spatial import Delaunay\n",
    "def in_hull(points, hull_points):\n",
    "    hull = Delaunay(hull_points)\n",
    "    return hull.find_simplex(points)>=0"
   ],
   "metadata": {
    "collapsed": false,
    "pycharm": {
     "name": "#%%\n"
    }
   }
  },
  {
   "cell_type": "code",
   "execution_count": 930,
   "outputs": [],
   "source": [
    "def fill_hulls_entire(mask, points):\n",
    "    points = np.asarray(points)\n",
    "    mn = np.min(points, axis=0)\n",
    "    mx = np.max(points, axis=0)\n",
    "    rect = np.asarray([(x, y)\n",
    "              for x in range(mn[0], mx[0])\n",
    "              for y in range(mn[1], mx[1])\n",
    "              ])\n",
    "\n",
    "    if len(points) > 2:\n",
    "        try:\n",
    "            verts = ConvexHull(points).vertices\n",
    "            hull = points[verts]\n",
    "            is_in_hull = np.asarray(in_hull(rect, hull))\n",
    "            in_hull_points = rect[np.where(is_in_hull)]\n",
    "            for x, y in in_hull_points:\n",
    "                mask[x, y] = mask_opacity\n",
    "        except QhullError:\n",
    "            print(\"Hull is empty. OK\")"
   ],
   "metadata": {
    "collapsed": false,
    "pycharm": {
     "name": "#%%\n"
    }
   }
  },
  {
   "cell_type": "code",
   "execution_count": 931,
   "outputs": [],
   "source": [
    "def fill_by_hull(mask):\n",
    "    used = np.zeros(mask.shape, dtype=np.bool_)\n",
    "    drops = []\n",
    "    for (i, j), m in np.ndenumerate(mask):\n",
    "        if m == mask_opacity and not used[i, j]:\n",
    "            drops.append(find_component(mask, (i, j), used))\n",
    "    for drop in drops:\n",
    "        fill_hulls_entire(mask, drop)"
   ],
   "metadata": {
    "collapsed": false,
    "pycharm": {
     "name": "#%%\n"
    }
   }
  },
  {
   "cell_type": "code",
   "execution_count": 932,
   "outputs": [
    {
     "name": "stdout",
     "output_type": "stream",
     "text": [
      "Hull is empty. OK\n",
      "Hull is empty. OK\n"
     ]
    }
   ],
   "source": [
    "fill_by_hull(mask)"
   ],
   "metadata": {
    "collapsed": false,
    "pycharm": {
     "name": "#%%\n"
    }
   }
  },
  {
   "cell_type": "markdown",
   "source": [
    "# Visualization"
   ],
   "metadata": {
    "collapsed": false,
    "pycharm": {
     "name": "#%% md\n"
    }
   }
  },
  {
   "cell_type": "code",
   "execution_count": 933,
   "outputs": [],
   "source": [
    "def masked_image(background, mask):\n",
    "    foreground = np.zeros((background.height, background.width, 4))\n",
    "    foreground[:, :, 0].fill(255)\n",
    "    foreground[:, :, 3] = mask\n",
    "    print(foreground[0][0])\n",
    "    foreground = Image.fromarray(foreground.astype('uint8'), \"RGBA\")\n",
    "\n",
    "    background.paste(Image.new('RGB', background.size, (255, 0, 0)), mask=foreground)\n",
    "    return background"
   ],
   "metadata": {
    "collapsed": false,
    "pycharm": {
     "name": "#%%\n"
    }
   }
  },
  {
   "cell_type": "code",
   "execution_count": 934,
   "outputs": [
    {
     "name": "stdout",
     "output_type": "stream",
     "text": [
      "[255.   0.   0.   0.]\n"
     ]
    }
   ],
   "source": [
    "masked = masked_image(Image.open(dirty_path), mask)"
   ],
   "metadata": {
    "collapsed": false,
    "pycharm": {
     "name": "#%%\n"
    }
   }
  },
  {
   "cell_type": "code",
   "execution_count": 935,
   "outputs": [],
   "source": [
    "masked.save(mask_path)"
   ],
   "metadata": {
    "collapsed": false,
    "pycharm": {
     "name": "#%%\n"
    }
   }
  },
  {
   "cell_type": "code",
   "execution_count": 936,
   "outputs": [],
   "source": [
    "masked.show()"
   ],
   "metadata": {
    "collapsed": false,
    "pycharm": {
     "name": "#%%\n"
    }
   }
  },
  {
   "cell_type": "code",
   "execution_count": null,
   "outputs": [],
   "source": [],
   "metadata": {
    "collapsed": false,
    "pycharm": {
     "name": "#%%\n"
    }
   }
  }
 ],
 "metadata": {
  "kernelspec": {
   "display_name": "Python 3 (ipykernel)",
   "language": "python",
   "name": "python3"
  },
  "language_info": {
   "codemirror_mode": {
    "name": "ipython",
    "version": 3
   },
   "file_extension": ".py",
   "mimetype": "text/x-python",
   "name": "python",
   "nbconvert_exporter": "python",
   "pygments_lexer": "ipython3",
   "version": "3.10.9"
  }
 },
 "nbformat": 4,
 "nbformat_minor": 4
}