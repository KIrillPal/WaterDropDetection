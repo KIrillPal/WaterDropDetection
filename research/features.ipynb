{
 "cells": [
  {
   "cell_type": "code",
   "execution_count": null,
   "outputs": [],
   "source": [
    "from PIL import Image\n",
    "image = Image.open('../data/stereo/train/images/000_008_1.png')\n",
    "image = image.convert('L')"
   ],
   "metadata": {
    "collapsed": false,
    "pycharm": {
     "name": "#%%\n"
    }
   }
  },
  {
   "cell_type": "markdown",
   "source": [
    "# DWT"
   ],
   "metadata": {
    "collapsed": false,
    "pycharm": {
     "name": "#%% md\n"
    }
   }
  },
  {
   "cell_type": "raw",
   "source": [
    "!pip install pywavelets"
   ],
   "metadata": {
    "collapsed": false,
    "pycharm": {
     "name": "#%% raw\n"
    }
   }
  },
  {
   "cell_type": "code",
   "execution_count": null,
   "outputs": [],
   "source": [
    "import numpy as np\n",
    "import pywt\n",
    "import math"
   ],
   "metadata": {
    "collapsed": false,
    "pycharm": {
     "name": "#%%\n"
    }
   }
  },
  {
   "cell_type": "code",
   "execution_count": null,
   "outputs": [],
   "source": [
    "def get_dwt_levels(image, level):\n",
    "    image = np.asarray(image)\n",
    "    wt = pywt.wavedec2(image, 'haar', level=level)\n",
    "    wt = wt[1:]\n",
    "    images = [np.sqrt(LH**2 + HL**2 + HH**2) for LH, HL, HH in wt]\n",
    "    images.append(image)\n",
    "    images.reverse()\n",
    "    return images"
   ],
   "metadata": {
    "collapsed": false,
    "pycharm": {
     "name": "#%%\n"
    }
   }
  },
  {
   "cell_type": "code",
   "execution_count": null,
   "outputs": [],
   "source": [
    "dwt_img = Image.fromarray(get_dwt_levels(image, 3)[1])"
   ],
   "metadata": {
    "collapsed": false,
    "pycharm": {
     "name": "#%%\n"
    }
   }
  },
  {
   "cell_type": "code",
   "execution_count": null,
   "outputs": [],
   "source": [
    "# Visualize results\n",
    "from matplotlib import pyplot as plt\n",
    "fig, axs = plt.subplots(1, 2, figsize=(17, 6))\n",
    "axs[0].imshow(image, cmap='gray')\n",
    "axs[1].imshow(dwt_img, cmap=\"gray\")\n",
    "\n",
    "axs[0].axis('off')\n",
    "axs[1].axis('off')\n",
    "\n",
    "axs[0].set_title('Grayscale')\n",
    "axs[1].set_title('DWT')\n",
    "plt.show()"
   ],
   "metadata": {
    "collapsed": false,
    "pycharm": {
     "name": "#%%\n"
    }
   }
  },
  {
   "cell_type": "code",
   "execution_count": null,
   "outputs": [],
   "source": [],
   "metadata": {
    "collapsed": false,
    "pycharm": {
     "name": "#%%\n"
    }
   }
  },
  {
   "cell_type": "code",
   "execution_count": null,
   "outputs": [],
   "source": [
    "def get_blur_map(image, t4 = 7):\n",
    "    w = get_dwt_levels(image, 3)\n",
    "    import skimage.measure\n",
    "    w[1] = skimage.measure.block_reduce(w[1], (4,4), np.max)\n",
    "    w[2] = skimage.measure.block_reduce(w[2], (2,2), np.max)\n",
    "\n",
    "    blur_map = np.zeros(w[1].shape)\n",
    "    for (x, y), v in np.ndenumerate(w[1]):\n",
    "        w1 = w[1][x, y]\n",
    "        w2 = w[2][x, y]\n",
    "        w3 = w[3][x, y]\n",
    "        if max(w1, w2, w3) >= t4:\n",
    "            blur_map[x, y] = 1\n",
    "        if w1 < t4 and w1 < w2:\n",
    "            blur_map[x, y] = 0.7\n",
    "    return blur_map"
   ],
   "metadata": {
    "collapsed": false,
    "pycharm": {
     "name": "#%%\n"
    }
   }
  },
  {
   "cell_type": "code",
   "execution_count": null,
   "outputs": [],
   "source": [
    "blur_map = Image.fromarray(get_blur_map(image) * 255)"
   ],
   "metadata": {
    "collapsed": false,
    "pycharm": {
     "name": "#%%\n"
    }
   }
  },
  {
   "cell_type": "code",
   "execution_count": null,
   "outputs": [],
   "source": [
    "# Visualize results\n",
    "from matplotlib import pyplot as plt\n",
    "fig, axs = plt.subplots(1, 2, figsize=(17, 6))\n",
    "axs[0].imshow(image, cmap='gray')\n",
    "axs[1].imshow(blur_map, cmap=\"gray\")\n",
    "\n",
    "axs[0].axis('off')\n",
    "axs[1].axis('off')\n",
    "\n",
    "axs[0].set_title('Grayscale')\n",
    "axs[1].set_title('Edge map')\n",
    "plt.show()"
   ],
   "metadata": {
    "collapsed": false,
    "pycharm": {
     "name": "#%%\n"
    }
   }
  },
  {
   "cell_type": "markdown",
   "source": [
    "# Gradient"
   ],
   "metadata": {
    "collapsed": false,
    "pycharm": {
     "name": "#%% md\n"
    }
   }
  },
  {
   "cell_type": "code",
   "execution_count": null,
   "outputs": [],
   "source": [
    "# Kernels\n",
    "sobelGx_kernel =  np.asarray([\n",
    "    [ 1,  2,  1],\n",
    "    [ 0,  0,  0],\n",
    "    [-1, -2, -1]\n",
    "]) * 1.\n",
    "sobelGy_kernel = sobelGx_kernel.T"
   ],
   "metadata": {
    "collapsed": false,
    "pycharm": {
     "name": "#%%\n"
    }
   }
  },
  {
   "cell_type": "code",
   "execution_count": null,
   "outputs": [],
   "source": [
    "# Apply Gx and Gy\n",
    "def get_magnitude(image):\n",
    "    from scipy import signal\n",
    "    Gx = signal.convolve2d(image, sobelGx_kernel)\n",
    "    Gy = signal.convolve2d(image, sobelGy_kernel)\n",
    "    # Calculate magnitude\n",
    "    magnitude = np.sqrt(Gx ** 2 + Gy ** 2)\n",
    "    return magnitude"
   ],
   "metadata": {
    "collapsed": false,
    "pycharm": {
     "name": "#%%\n"
    }
   }
  },
  {
   "cell_type": "code",
   "execution_count": null,
   "outputs": [],
   "source": [
    "# Visualize results\n",
    "from matplotlib import pyplot as plt\n",
    "fig, axs = plt.subplots(1, 2, figsize=(17, 6))\n",
    "axs[0].imshow(image, cmap='gray')\n",
    "axs[1].imshow(Image.fromarray(get_magnitude(image)), cmap=\"gray\")\n",
    "\n",
    "axs[0].axis('off')\n",
    "axs[1].axis('off')\n",
    "\n",
    "axs[0].set_title('Grayscale')\n",
    "axs[1].set_title('Magnitude')\n",
    "plt.show()"
   ],
   "metadata": {
    "collapsed": false,
    "pycharm": {
     "name": "#%%\n"
    }
   }
  },
  {
   "cell_type": "markdown",
   "source": [
    "# Hist Normalization"
   ],
   "metadata": {
    "collapsed": false,
    "pycharm": {
     "name": "#%% md\n"
    }
   }
  },
  {
   "cell_type": "raw",
   "source": [
    "!pip install opencv-python"
   ],
   "metadata": {
    "collapsed": false,
    "pycharm": {
     "name": "#%% raw\n"
    }
   }
  },
  {
   "cell_type": "code",
   "execution_count": null,
   "outputs": [],
   "source": [
    "import cv2\n",
    "def equalize_hist(pil_image):\n",
    "    rgb_img = np.array(pil_image.convert('RGB'))\n",
    "\n",
    "    # convert from RGB color-space to YCrCb\n",
    "    ycrcb_img = cv2.cvtColor(rgb_img, cv2.COLOR_RGB2YCrCb)\n",
    "\n",
    "    # equalize the histogram of the Y channel\n",
    "    ycrcb_img[:, :, 0] = cv2.equalizeHist(ycrcb_img[:, :, 0])\n",
    "\n",
    "    # convert back to RGB color-space from YCrCb\n",
    "    equalized_img = cv2.cvtColor(ycrcb_img, cv2.COLOR_YCrCb2BGR)\n",
    "\n",
    "    cv2.imshow('equalized_img', equalized_img)\n",
    "    cv2.waitKey(0)"
   ],
   "metadata": {
    "collapsed": false,
    "pycharm": {
     "name": "#%%\n"
    }
   }
  },
  {
   "cell_type": "code",
   "execution_count": null,
   "outputs": [],
   "source": [
    "import numpy as np\n",
    "import cv2 as cv\n",
    "\n",
    "dwt = get_dwt_levels(image, 2)[1]\n",
    "img = cv.cvtColor(dwt.astype(np.uint8), cv.COLOR_GRAY2BGR)\n",
    "img = cv.cvtColor(img, cv.COLOR_BGR2GRAY)\n",
    "#img = cv.medianBlur(img, 3)\n",
    "cimg = cv.cvtColor(img * 5, cv.COLOR_GRAY2BGR)\n",
    "\n",
    "circles = cv.HoughCircles(\n",
    "    image=img,\n",
    "    method=cv.HOUGH_GRADIENT,\n",
    "    dp=1,\n",
    "    minDist=5,\n",
    "    param1=15,\n",
    "    param2=10,\n",
    "    minRadius=0,\n",
    "    maxRadius=10\n",
    ")\n",
    "circles = np.uint16(np.around(circles))\n",
    "for i in circles[0,:]:\n",
    " # draw the outer circle\n",
    " cv.circle(cimg,(i[0],i[1]),i[2],(0,255,0),2)\n",
    "cv.imshow('detected circles',cimg)\n",
    "cv.waitKey(0)\n",
    "cv.destroyAllWindows()"
   ],
   "metadata": {
    "collapsed": false,
    "pycharm": {
     "name": "#%%\n"
    }
   }
  },
  {
   "cell_type": "code",
   "execution_count": null,
   "outputs": [],
   "source": [
    "type(img)"
   ],
   "metadata": {
    "collapsed": false,
    "pycharm": {
     "name": "#%%\n"
    }
   }
  },
  {
   "cell_type": "code",
   "execution_count": 13,
   "outputs": [],
   "source": [
    "import numpy as np\n",
    "import cv2 as cv\n",
    "\n",
    "dwt = get_dwt_levels(image, 2)[1]\n",
    "img = cv.cvtColor(dwt.astype(np.uint8), cv.COLOR_GRAY2BGR)\n",
    "img = cv.cvtColor(img, cv.COLOR_BGR2GRAY)\n",
    "#img = cv.medianBlur(img, 3)\n",
    "cimg = cv.cvtColor(img * 5, cv.COLOR_GRAY2BGR)\n",
    "\n",
    "circles = cv.HoughCircles(\n",
    "    image=img,\n",
    "    method=cv.HOUGH_GRADIENT,\n",
    "    dp=1,\n",
    "    minDist=5,\n",
    "    param1=15,\n",
    "    param2=10,\n",
    "    minRadius=0,\n",
    "    maxRadius=10\n",
    ")\n",
    "circles = np.uint16(np.around(circles))\n",
    "for i in circles[0,:]:\n",
    " # draw the outer circle\n",
    " cv.circle(cimg,(i[0],i[1]),i[2],(0,255,0),2)\n",
    "cv.imshow('detected circles',cimg)\n",
    "cv.waitKey(0)\n",
    "cv.destroyAllWindows()"
   ],
   "metadata": {
    "collapsed": false,
    "pycharm": {
     "name": "#%%\n"
    }
   }
  },
  {
   "cell_type": "code",
   "execution_count": 14,
   "outputs": [
    {
     "data": {
      "text/plain": "numpy.ndarray"
     },
     "execution_count": 14,
     "metadata": {},
     "output_type": "execute_result"
    }
   ],
   "source": [
    "type(img)"
   ],
   "metadata": {
    "collapsed": false,
    "pycharm": {
     "name": "#%%\n"
    }
   }
  },
  {
   "cell_type": "code",
   "execution_count": 14,
   "outputs": [],
   "source": [],
   "metadata": {
    "collapsed": false,
    "pycharm": {
     "name": "#%%\n"
    }
   }
  }
 ],
 "metadata": {
  "kernelspec": {
   "display_name": "Python 3",
   "language": "python",
   "name": "python3"
  },
  "language_info": {
   "codemirror_mode": {
    "name": "ipython",
    "version": 2
   },
   "file_extension": ".py",
   "mimetype": "text/x-python",
   "name": "python",
   "nbconvert_exporter": "python",
   "pygments_lexer": "ipython2",
   "version": "2.7.6"
  }
 },
 "nbformat": 4,
 "nbformat_minor": 0
}